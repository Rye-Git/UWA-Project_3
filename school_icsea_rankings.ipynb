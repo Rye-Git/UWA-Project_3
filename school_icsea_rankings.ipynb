{
 "metadata": {
  "language_info": {
   "codemirror_mode": {
    "name": "ipython",
    "version": 3
   },
   "file_extension": ".py",
   "mimetype": "text/x-python",
   "name": "python",
   "nbconvert_exporter": "python",
   "pygments_lexer": "ipython3",
   "version": "3.8.3-final"
  },
  "orig_nbformat": 2,
  "kernelspec": {
   "name": "python3",
   "display_name": "Python 3",
   "language": "python"
  }
 },
 "nbformat": 4,
 "nbformat_minor": 2,
 "cells": [
  {
   "cell_type": "code",
   "execution_count": 41,
   "metadata": {},
   "outputs": [],
   "source": [
    "import pandas as pd"
   ]
  },
  {
   "cell_type": "code",
   "execution_count": 42,
   "metadata": {},
   "outputs": [
    {
     "output_type": "execute_result",
     "data": {
      "text/plain": [
       "                                               School  Year  Rank  Postcode  \\\n",
       "0                                 Perth Modern School  2019     1      6008   \n",
       "1   St Hilda's Anglican School for Girls (Inc),Mos...  2019     2      6012   \n",
       "2                        Christ Church Grammar School  2019     3      6010   \n",
       "3                        Rossmoyne Senior High School  2019     4      6148   \n",
       "4   St Mary's Anglican Girls' School (Inc),Karriny...  2019     5      6018   \n",
       "..                                                ...   ...   ...       ...   \n",
       "89  Swan Valley Anglican Community School,Aveley,W...  2019    90      6069   \n",
       "90                   Boyup Brook District High School  2019    91      6244   \n",
       "91                Mater Dei College,Edgewater,WA,6027  2019    92      6027   \n",
       "92          Emmanuel Catholic College,Beeliar,WA,6164  2019    93      6164   \n",
       "93                Emmanuel Christian Community School  2019    94      6064   \n",
       "\n",
       "    State Overall Score  English  Maths  Total Enrolments  Trend / Compare  \\\n",
       "0                   100      NaN    NaN              1418  Trend / Compare   \n",
       "1                   100      NaN    NaN              1087  Trend / Compare   \n",
       "2                   100      NaN    NaN              1646  Trend / Compare   \n",
       "3                   100      NaN    NaN              2188  Trend / Compare   \n",
       "4                   100      NaN    NaN              1414  Trend / Compare   \n",
       "..                  ...      ...    ...               ...              ...   \n",
       "89                   90      NaN    NaN              1031  Trend / Compare   \n",
       "90                   90      NaN    NaN               162  Trend / Compare   \n",
       "91                   90      NaN    NaN               804  Trend / Compare   \n",
       "92                   90      NaN    NaN              1061  Trend / Compare   \n",
       "93                   90      NaN    NaN               552  Trend / Compare   \n",
       "\n",
       "            Sector   ICSEA  \n",
       "0       Government  1239.0  \n",
       "1   Non-government  1197.0  \n",
       "2   Non-government  1180.0  \n",
       "3       Government  1121.0  \n",
       "4   Non-government  1158.0  \n",
       "..             ...     ...  \n",
       "89  Non-government  1045.0  \n",
       "90      Government  1002.0  \n",
       "91  Non-government  1055.0  \n",
       "92  Non-government  1036.0  \n",
       "93  Non-government   980.0  \n",
       "\n",
       "[94 rows x 11 columns]"
      ],
      "text/html": "<div>\n<style scoped>\n    .dataframe tbody tr th:only-of-type {\n        vertical-align: middle;\n    }\n\n    .dataframe tbody tr th {\n        vertical-align: top;\n    }\n\n    .dataframe thead th {\n        text-align: right;\n    }\n</style>\n<table border=\"1\" class=\"dataframe\">\n  <thead>\n    <tr style=\"text-align: right;\">\n      <th></th>\n      <th>School</th>\n      <th>Year</th>\n      <th>Rank</th>\n      <th>Postcode</th>\n      <th>State Overall Score</th>\n      <th>English</th>\n      <th>Maths</th>\n      <th>Total Enrolments</th>\n      <th>Trend / Compare</th>\n      <th>Sector</th>\n      <th>ICSEA</th>\n    </tr>\n  </thead>\n  <tbody>\n    <tr>\n      <th>0</th>\n      <td>Perth Modern School</td>\n      <td>2019</td>\n      <td>1</td>\n      <td>6008</td>\n      <td>100</td>\n      <td>NaN</td>\n      <td>NaN</td>\n      <td>1418</td>\n      <td>Trend / Compare</td>\n      <td>Government</td>\n      <td>1239.0</td>\n    </tr>\n    <tr>\n      <th>1</th>\n      <td>St Hilda's Anglican School for Girls (Inc),Mos...</td>\n      <td>2019</td>\n      <td>2</td>\n      <td>6012</td>\n      <td>100</td>\n      <td>NaN</td>\n      <td>NaN</td>\n      <td>1087</td>\n      <td>Trend / Compare</td>\n      <td>Non-government</td>\n      <td>1197.0</td>\n    </tr>\n    <tr>\n      <th>2</th>\n      <td>Christ Church Grammar School</td>\n      <td>2019</td>\n      <td>3</td>\n      <td>6010</td>\n      <td>100</td>\n      <td>NaN</td>\n      <td>NaN</td>\n      <td>1646</td>\n      <td>Trend / Compare</td>\n      <td>Non-government</td>\n      <td>1180.0</td>\n    </tr>\n    <tr>\n      <th>3</th>\n      <td>Rossmoyne Senior High School</td>\n      <td>2019</td>\n      <td>4</td>\n      <td>6148</td>\n      <td>100</td>\n      <td>NaN</td>\n      <td>NaN</td>\n      <td>2188</td>\n      <td>Trend / Compare</td>\n      <td>Government</td>\n      <td>1121.0</td>\n    </tr>\n    <tr>\n      <th>4</th>\n      <td>St Mary's Anglican Girls' School (Inc),Karriny...</td>\n      <td>2019</td>\n      <td>5</td>\n      <td>6018</td>\n      <td>100</td>\n      <td>NaN</td>\n      <td>NaN</td>\n      <td>1414</td>\n      <td>Trend / Compare</td>\n      <td>Non-government</td>\n      <td>1158.0</td>\n    </tr>\n    <tr>\n      <th>...</th>\n      <td>...</td>\n      <td>...</td>\n      <td>...</td>\n      <td>...</td>\n      <td>...</td>\n      <td>...</td>\n      <td>...</td>\n      <td>...</td>\n      <td>...</td>\n      <td>...</td>\n      <td>...</td>\n    </tr>\n    <tr>\n      <th>89</th>\n      <td>Swan Valley Anglican Community School,Aveley,W...</td>\n      <td>2019</td>\n      <td>90</td>\n      <td>6069</td>\n      <td>90</td>\n      <td>NaN</td>\n      <td>NaN</td>\n      <td>1031</td>\n      <td>Trend / Compare</td>\n      <td>Non-government</td>\n      <td>1045.0</td>\n    </tr>\n    <tr>\n      <th>90</th>\n      <td>Boyup Brook District High School</td>\n      <td>2019</td>\n      <td>91</td>\n      <td>6244</td>\n      <td>90</td>\n      <td>NaN</td>\n      <td>NaN</td>\n      <td>162</td>\n      <td>Trend / Compare</td>\n      <td>Government</td>\n      <td>1002.0</td>\n    </tr>\n    <tr>\n      <th>91</th>\n      <td>Mater Dei College,Edgewater,WA,6027</td>\n      <td>2019</td>\n      <td>92</td>\n      <td>6027</td>\n      <td>90</td>\n      <td>NaN</td>\n      <td>NaN</td>\n      <td>804</td>\n      <td>Trend / Compare</td>\n      <td>Non-government</td>\n      <td>1055.0</td>\n    </tr>\n    <tr>\n      <th>92</th>\n      <td>Emmanuel Catholic College,Beeliar,WA,6164</td>\n      <td>2019</td>\n      <td>93</td>\n      <td>6164</td>\n      <td>90</td>\n      <td>NaN</td>\n      <td>NaN</td>\n      <td>1061</td>\n      <td>Trend / Compare</td>\n      <td>Non-government</td>\n      <td>1036.0</td>\n    </tr>\n    <tr>\n      <th>93</th>\n      <td>Emmanuel Christian Community School</td>\n      <td>2019</td>\n      <td>94</td>\n      <td>6064</td>\n      <td>90</td>\n      <td>NaN</td>\n      <td>NaN</td>\n      <td>552</td>\n      <td>Trend / Compare</td>\n      <td>Non-government</td>\n      <td>980.0</td>\n    </tr>\n  </tbody>\n</table>\n<p>94 rows × 11 columns</p>\n</div>"
     },
     "metadata": {},
     "execution_count": 42
    }
   ],
   "source": [
    "# get the 2019 url WA school ranking\n",
    "rank_2019 = \"https://bettereducation.com.au/school/secondary/wa/wa_top_secondary_schools.aspx?yr=2019\"\n",
    "\n",
    "# Use panda's `read_html` to parse the s1 url\n",
    "hs_wa_2019 = pd.read_html(rank_2019, header=0)[0]\n",
    "\n",
    "# insert a column 'year' with values of '2019'\n",
    "hs_wa_2019.insert(1, 'Year', 2019)\n",
    "\n",
    "# insert a column 'Rank' with values of incremental values'\n",
    "hs_wa_2019.insert(2, 'Rank', range(1, 1 + len(hs_wa_2019)))\n",
    "hs_wa_2019"
   ]
  },
  {
   "cell_type": "code",
   "execution_count": 43,
   "metadata": {},
   "outputs": [
    {
     "output_type": "execute_result",
     "data": {
      "text/plain": [
       "                                               School  Year  Rank  Postcode  \\\n",
       "63  Australian Islamic College (Kewdale),Kewdale,W...  2019    64      6105   \n",
       "87  Australian Islamic College (Thornlie),Thornlie...  2019    88      6108   \n",
       "\n",
       "    State Overall Score  English  Maths  Total Enrolments  Trend / Compare  \\\n",
       "63                   93      NaN    NaN               735  Trend / Compare   \n",
       "87                   91      NaN    NaN              1416  Trend / Compare   \n",
       "\n",
       "            Sector  ICSEA  \n",
       "63  Non-government  985.0  \n",
       "87  Non-government  993.0  "
      ],
      "text/html": "<div>\n<style scoped>\n    .dataframe tbody tr th:only-of-type {\n        vertical-align: middle;\n    }\n\n    .dataframe tbody tr th {\n        vertical-align: top;\n    }\n\n    .dataframe thead th {\n        text-align: right;\n    }\n</style>\n<table border=\"1\" class=\"dataframe\">\n  <thead>\n    <tr style=\"text-align: right;\">\n      <th></th>\n      <th>School</th>\n      <th>Year</th>\n      <th>Rank</th>\n      <th>Postcode</th>\n      <th>State Overall Score</th>\n      <th>English</th>\n      <th>Maths</th>\n      <th>Total Enrolments</th>\n      <th>Trend / Compare</th>\n      <th>Sector</th>\n      <th>ICSEA</th>\n    </tr>\n  </thead>\n  <tbody>\n    <tr>\n      <th>63</th>\n      <td>Australian Islamic College (Kewdale),Kewdale,W...</td>\n      <td>2019</td>\n      <td>64</td>\n      <td>6105</td>\n      <td>93</td>\n      <td>NaN</td>\n      <td>NaN</td>\n      <td>735</td>\n      <td>Trend / Compare</td>\n      <td>Non-government</td>\n      <td>985.0</td>\n    </tr>\n    <tr>\n      <th>87</th>\n      <td>Australian Islamic College (Thornlie),Thornlie...</td>\n      <td>2019</td>\n      <td>88</td>\n      <td>6108</td>\n      <td>91</td>\n      <td>NaN</td>\n      <td>NaN</td>\n      <td>1416</td>\n      <td>Trend / Compare</td>\n      <td>Non-government</td>\n      <td>993.0</td>\n    </tr>\n  </tbody>\n</table>\n</div>"
     },
     "metadata": {},
     "execution_count": 43
    }
   ],
   "source": [
    "# check islamic school College\n",
    "hs_wa_2019[hs_wa_2019['School'].str.match(\"Australian Islamic\")]"
   ]
  },
  {
   "cell_type": "code",
   "execution_count": 44,
   "metadata": {},
   "outputs": [],
   "source": [
    "# replace some values to correct the spelling\n",
    "hs_wa_2019[\"School\"].replace({\"Australian Islamic College (Kewdale),Kewdale,WA,6105\": \"Australian Islamic College - Kewdale\",\n",
    "                              \"Australian Islamic College (Thornlie),Thornlie,WA,6108\": \"Australian Islamic College - Thornlie\"\n",
    "                                    }, inplace=True)"
   ]
  },
  {
   "cell_type": "code",
   "execution_count": 45,
   "metadata": {},
   "outputs": [
    {
     "output_type": "execute_result",
     "data": {
      "text/plain": [
       "                                               School  Year  Rank  Postcode  \\\n",
       "0                                 Perth Modern School  2019     1      6008   \n",
       "1   St Hilda's Anglican School for Girls (Inc),Mos...  2019     2      6012   \n",
       "2                        Christ Church Grammar School  2019     3      6010   \n",
       "3                        Rossmoyne Senior High School  2019     4      6148   \n",
       "4   St Mary's Anglican Girls' School (Inc),Karriny...  2019     5      6018   \n",
       "..                                                ...   ...   ...       ...   \n",
       "89  Swan Valley Anglican Community School,Aveley,W...  2019    90      6069   \n",
       "90                   Boyup Brook District High School  2019    91      6244   \n",
       "91                Mater Dei College,Edgewater,WA,6027  2019    92      6027   \n",
       "92          Emmanuel Catholic College,Beeliar,WA,6164  2019    93      6164   \n",
       "93                Emmanuel Christian Community School  2019    94      6064   \n",
       "\n",
       "    State Overall Score  English  Maths  Total Enrolments  Trend / Compare  \\\n",
       "0                   100      NaN    NaN              1418  Trend / Compare   \n",
       "1                   100      NaN    NaN              1087  Trend / Compare   \n",
       "2                   100      NaN    NaN              1646  Trend / Compare   \n",
       "3                   100      NaN    NaN              2188  Trend / Compare   \n",
       "4                   100      NaN    NaN              1414  Trend / Compare   \n",
       "..                  ...      ...    ...               ...              ...   \n",
       "89                   90      NaN    NaN              1031  Trend / Compare   \n",
       "90                   90      NaN    NaN               162  Trend / Compare   \n",
       "91                   90      NaN    NaN               804  Trend / Compare   \n",
       "92                   90      NaN    NaN              1061  Trend / Compare   \n",
       "93                   90      NaN    NaN               552  Trend / Compare   \n",
       "\n",
       "            Sector ICSEA  \n",
       "0       Government  1239  \n",
       "1   Non-government  1197  \n",
       "2   Non-government  1180  \n",
       "3       Government  1121  \n",
       "4   Non-government  1158  \n",
       "..             ...   ...  \n",
       "89  Non-government  1045  \n",
       "90      Government  1002  \n",
       "91  Non-government  1055  \n",
       "92  Non-government  1036  \n",
       "93  Non-government   980  \n",
       "\n",
       "[94 rows x 11 columns]"
      ],
      "text/html": "<div>\n<style scoped>\n    .dataframe tbody tr th:only-of-type {\n        vertical-align: middle;\n    }\n\n    .dataframe tbody tr th {\n        vertical-align: top;\n    }\n\n    .dataframe thead th {\n        text-align: right;\n    }\n</style>\n<table border=\"1\" class=\"dataframe\">\n  <thead>\n    <tr style=\"text-align: right;\">\n      <th></th>\n      <th>School</th>\n      <th>Year</th>\n      <th>Rank</th>\n      <th>Postcode</th>\n      <th>State Overall Score</th>\n      <th>English</th>\n      <th>Maths</th>\n      <th>Total Enrolments</th>\n      <th>Trend / Compare</th>\n      <th>Sector</th>\n      <th>ICSEA</th>\n    </tr>\n  </thead>\n  <tbody>\n    <tr>\n      <th>0</th>\n      <td>Perth Modern School</td>\n      <td>2019</td>\n      <td>1</td>\n      <td>6008</td>\n      <td>100</td>\n      <td>NaN</td>\n      <td>NaN</td>\n      <td>1418</td>\n      <td>Trend / Compare</td>\n      <td>Government</td>\n      <td>1239</td>\n    </tr>\n    <tr>\n      <th>1</th>\n      <td>St Hilda's Anglican School for Girls (Inc),Mos...</td>\n      <td>2019</td>\n      <td>2</td>\n      <td>6012</td>\n      <td>100</td>\n      <td>NaN</td>\n      <td>NaN</td>\n      <td>1087</td>\n      <td>Trend / Compare</td>\n      <td>Non-government</td>\n      <td>1197</td>\n    </tr>\n    <tr>\n      <th>2</th>\n      <td>Christ Church Grammar School</td>\n      <td>2019</td>\n      <td>3</td>\n      <td>6010</td>\n      <td>100</td>\n      <td>NaN</td>\n      <td>NaN</td>\n      <td>1646</td>\n      <td>Trend / Compare</td>\n      <td>Non-government</td>\n      <td>1180</td>\n    </tr>\n    <tr>\n      <th>3</th>\n      <td>Rossmoyne Senior High School</td>\n      <td>2019</td>\n      <td>4</td>\n      <td>6148</td>\n      <td>100</td>\n      <td>NaN</td>\n      <td>NaN</td>\n      <td>2188</td>\n      <td>Trend / Compare</td>\n      <td>Government</td>\n      <td>1121</td>\n    </tr>\n    <tr>\n      <th>4</th>\n      <td>St Mary's Anglican Girls' School (Inc),Karriny...</td>\n      <td>2019</td>\n      <td>5</td>\n      <td>6018</td>\n      <td>100</td>\n      <td>NaN</td>\n      <td>NaN</td>\n      <td>1414</td>\n      <td>Trend / Compare</td>\n      <td>Non-government</td>\n      <td>1158</td>\n    </tr>\n    <tr>\n      <th>...</th>\n      <td>...</td>\n      <td>...</td>\n      <td>...</td>\n      <td>...</td>\n      <td>...</td>\n      <td>...</td>\n      <td>...</td>\n      <td>...</td>\n      <td>...</td>\n      <td>...</td>\n      <td>...</td>\n    </tr>\n    <tr>\n      <th>89</th>\n      <td>Swan Valley Anglican Community School,Aveley,W...</td>\n      <td>2019</td>\n      <td>90</td>\n      <td>6069</td>\n      <td>90</td>\n      <td>NaN</td>\n      <td>NaN</td>\n      <td>1031</td>\n      <td>Trend / Compare</td>\n      <td>Non-government</td>\n      <td>1045</td>\n    </tr>\n    <tr>\n      <th>90</th>\n      <td>Boyup Brook District High School</td>\n      <td>2019</td>\n      <td>91</td>\n      <td>6244</td>\n      <td>90</td>\n      <td>NaN</td>\n      <td>NaN</td>\n      <td>162</td>\n      <td>Trend / Compare</td>\n      <td>Government</td>\n      <td>1002</td>\n    </tr>\n    <tr>\n      <th>91</th>\n      <td>Mater Dei College,Edgewater,WA,6027</td>\n      <td>2019</td>\n      <td>92</td>\n      <td>6027</td>\n      <td>90</td>\n      <td>NaN</td>\n      <td>NaN</td>\n      <td>804</td>\n      <td>Trend / Compare</td>\n      <td>Non-government</td>\n      <td>1055</td>\n    </tr>\n    <tr>\n      <th>92</th>\n      <td>Emmanuel Catholic College,Beeliar,WA,6164</td>\n      <td>2019</td>\n      <td>93</td>\n      <td>6164</td>\n      <td>90</td>\n      <td>NaN</td>\n      <td>NaN</td>\n      <td>1061</td>\n      <td>Trend / Compare</td>\n      <td>Non-government</td>\n      <td>1036</td>\n    </tr>\n    <tr>\n      <th>93</th>\n      <td>Emmanuel Christian Community School</td>\n      <td>2019</td>\n      <td>94</td>\n      <td>6064</td>\n      <td>90</td>\n      <td>NaN</td>\n      <td>NaN</td>\n      <td>552</td>\n      <td>Trend / Compare</td>\n      <td>Non-government</td>\n      <td>980</td>\n    </tr>\n  </tbody>\n</table>\n<p>94 rows × 11 columns</p>\n</div>"
     },
     "metadata": {},
     "execution_count": 45
    }
   ],
   "source": [
    "# Remove other strings after decimal to show only the school name\n",
    "hs_wa_2019[\"ICSEA\"] = hs_wa_2019[\"ICSEA\"].astype(str)\n",
    "\n",
    "# Remove other strings after decimal to show only the school name\n",
    "hs_wa_2019[\"ICSEA\"] = hs_wa_2019[\"ICSEA\"].str.split('.', 1).str.get(0)\n",
    "hs_wa_2019"
   ]
  },
  {
   "cell_type": "code",
   "execution_count": 46,
   "metadata": {},
   "outputs": [
    {
     "output_type": "execute_result",
     "data": {
      "text/plain": [
       "                                        School  Year  Rank  Postcode  \\\n",
       "0                          Perth Modern School  2019     1      6008   \n",
       "1   St Hilda's Anglican School for Girls (Inc)  2019     2      6012   \n",
       "2                 Christ Church Grammar School  2019     3      6010   \n",
       "3                 Rossmoyne Senior High School  2019     4      6148   \n",
       "4       St Mary's Anglican Girls' School (Inc)  2019     5      6018   \n",
       "..                                         ...   ...   ...       ...   \n",
       "89       Swan Valley Anglican Community School  2019    90      6069   \n",
       "90            Boyup Brook District High School  2019    91      6244   \n",
       "91                           Mater Dei College  2019    92      6027   \n",
       "92                   Emmanuel Catholic College  2019    93      6164   \n",
       "93         Emmanuel Christian Community School  2019    94      6064   \n",
       "\n",
       "    State Overall Score  English  Maths  Total Enrolments  Trend / Compare  \\\n",
       "0                   100      NaN    NaN              1418  Trend / Compare   \n",
       "1                   100      NaN    NaN              1087  Trend / Compare   \n",
       "2                   100      NaN    NaN              1646  Trend / Compare   \n",
       "3                   100      NaN    NaN              2188  Trend / Compare   \n",
       "4                   100      NaN    NaN              1414  Trend / Compare   \n",
       "..                  ...      ...    ...               ...              ...   \n",
       "89                   90      NaN    NaN              1031  Trend / Compare   \n",
       "90                   90      NaN    NaN               162  Trend / Compare   \n",
       "91                   90      NaN    NaN               804  Trend / Compare   \n",
       "92                   90      NaN    NaN              1061  Trend / Compare   \n",
       "93                   90      NaN    NaN               552  Trend / Compare   \n",
       "\n",
       "            Sector ICSEA  \n",
       "0       Government  1239  \n",
       "1   Non-government  1197  \n",
       "2   Non-government  1180  \n",
       "3       Government  1121  \n",
       "4   Non-government  1158  \n",
       "..             ...   ...  \n",
       "89  Non-government  1045  \n",
       "90      Government  1002  \n",
       "91  Non-government  1055  \n",
       "92  Non-government  1036  \n",
       "93  Non-government   980  \n",
       "\n",
       "[94 rows x 11 columns]"
      ],
      "text/html": "<div>\n<style scoped>\n    .dataframe tbody tr th:only-of-type {\n        vertical-align: middle;\n    }\n\n    .dataframe tbody tr th {\n        vertical-align: top;\n    }\n\n    .dataframe thead th {\n        text-align: right;\n    }\n</style>\n<table border=\"1\" class=\"dataframe\">\n  <thead>\n    <tr style=\"text-align: right;\">\n      <th></th>\n      <th>School</th>\n      <th>Year</th>\n      <th>Rank</th>\n      <th>Postcode</th>\n      <th>State Overall Score</th>\n      <th>English</th>\n      <th>Maths</th>\n      <th>Total Enrolments</th>\n      <th>Trend / Compare</th>\n      <th>Sector</th>\n      <th>ICSEA</th>\n    </tr>\n  </thead>\n  <tbody>\n    <tr>\n      <th>0</th>\n      <td>Perth Modern School</td>\n      <td>2019</td>\n      <td>1</td>\n      <td>6008</td>\n      <td>100</td>\n      <td>NaN</td>\n      <td>NaN</td>\n      <td>1418</td>\n      <td>Trend / Compare</td>\n      <td>Government</td>\n      <td>1239</td>\n    </tr>\n    <tr>\n      <th>1</th>\n      <td>St Hilda's Anglican School for Girls (Inc)</td>\n      <td>2019</td>\n      <td>2</td>\n      <td>6012</td>\n      <td>100</td>\n      <td>NaN</td>\n      <td>NaN</td>\n      <td>1087</td>\n      <td>Trend / Compare</td>\n      <td>Non-government</td>\n      <td>1197</td>\n    </tr>\n    <tr>\n      <th>2</th>\n      <td>Christ Church Grammar School</td>\n      <td>2019</td>\n      <td>3</td>\n      <td>6010</td>\n      <td>100</td>\n      <td>NaN</td>\n      <td>NaN</td>\n      <td>1646</td>\n      <td>Trend / Compare</td>\n      <td>Non-government</td>\n      <td>1180</td>\n    </tr>\n    <tr>\n      <th>3</th>\n      <td>Rossmoyne Senior High School</td>\n      <td>2019</td>\n      <td>4</td>\n      <td>6148</td>\n      <td>100</td>\n      <td>NaN</td>\n      <td>NaN</td>\n      <td>2188</td>\n      <td>Trend / Compare</td>\n      <td>Government</td>\n      <td>1121</td>\n    </tr>\n    <tr>\n      <th>4</th>\n      <td>St Mary's Anglican Girls' School (Inc)</td>\n      <td>2019</td>\n      <td>5</td>\n      <td>6018</td>\n      <td>100</td>\n      <td>NaN</td>\n      <td>NaN</td>\n      <td>1414</td>\n      <td>Trend / Compare</td>\n      <td>Non-government</td>\n      <td>1158</td>\n    </tr>\n    <tr>\n      <th>...</th>\n      <td>...</td>\n      <td>...</td>\n      <td>...</td>\n      <td>...</td>\n      <td>...</td>\n      <td>...</td>\n      <td>...</td>\n      <td>...</td>\n      <td>...</td>\n      <td>...</td>\n      <td>...</td>\n    </tr>\n    <tr>\n      <th>89</th>\n      <td>Swan Valley Anglican Community School</td>\n      <td>2019</td>\n      <td>90</td>\n      <td>6069</td>\n      <td>90</td>\n      <td>NaN</td>\n      <td>NaN</td>\n      <td>1031</td>\n      <td>Trend / Compare</td>\n      <td>Non-government</td>\n      <td>1045</td>\n    </tr>\n    <tr>\n      <th>90</th>\n      <td>Boyup Brook District High School</td>\n      <td>2019</td>\n      <td>91</td>\n      <td>6244</td>\n      <td>90</td>\n      <td>NaN</td>\n      <td>NaN</td>\n      <td>162</td>\n      <td>Trend / Compare</td>\n      <td>Government</td>\n      <td>1002</td>\n    </tr>\n    <tr>\n      <th>91</th>\n      <td>Mater Dei College</td>\n      <td>2019</td>\n      <td>92</td>\n      <td>6027</td>\n      <td>90</td>\n      <td>NaN</td>\n      <td>NaN</td>\n      <td>804</td>\n      <td>Trend / Compare</td>\n      <td>Non-government</td>\n      <td>1055</td>\n    </tr>\n    <tr>\n      <th>92</th>\n      <td>Emmanuel Catholic College</td>\n      <td>2019</td>\n      <td>93</td>\n      <td>6164</td>\n      <td>90</td>\n      <td>NaN</td>\n      <td>NaN</td>\n      <td>1061</td>\n      <td>Trend / Compare</td>\n      <td>Non-government</td>\n      <td>1036</td>\n    </tr>\n    <tr>\n      <th>93</th>\n      <td>Emmanuel Christian Community School</td>\n      <td>2019</td>\n      <td>94</td>\n      <td>6064</td>\n      <td>90</td>\n      <td>NaN</td>\n      <td>NaN</td>\n      <td>552</td>\n      <td>Trend / Compare</td>\n      <td>Non-government</td>\n      <td>980</td>\n    </tr>\n  </tbody>\n</table>\n<p>94 rows × 11 columns</p>\n</div>"
     },
     "metadata": {},
     "execution_count": 46
    }
   ],
   "source": [
    "# Remove other strings after a comma to show only the school name\n",
    "hs_wa_2019[\"School\"] = hs_wa_2019[\"School\"].str.split(',', 1).str.get(0)\n",
    "hs_wa_2019"
   ]
  },
  {
   "cell_type": "code",
   "execution_count": 47,
   "metadata": {},
   "outputs": [
    {
     "output_type": "execute_result",
     "data": {
      "text/plain": [
       "                                   School  Year  Rank  Postcode  \\\n",
       "0                     Perth Modern School  2019     1      6008   \n",
       "1    St Hilda's Anglican School for Girls  2019     2      6012   \n",
       "2            Christ Church Grammar School  2019     3      6010   \n",
       "3            Rossmoyne Senior High School  2019     4      6148   \n",
       "4        St Mary's Anglican Girls' School  2019     5      6018   \n",
       "..                                    ...   ...   ...       ...   \n",
       "89  Swan Valley Anglican Community School  2019    90      6069   \n",
       "90       Boyup Brook District High School  2019    91      6244   \n",
       "91                      Mater Dei College  2019    92      6027   \n",
       "92              Emmanuel Catholic College  2019    93      6164   \n",
       "93    Emmanuel Christian Community School  2019    94      6064   \n",
       "\n",
       "    State Overall Score  English  Maths  Total Enrolments  Trend / Compare  \\\n",
       "0                   100      NaN    NaN              1418  Trend / Compare   \n",
       "1                   100      NaN    NaN              1087  Trend / Compare   \n",
       "2                   100      NaN    NaN              1646  Trend / Compare   \n",
       "3                   100      NaN    NaN              2188  Trend / Compare   \n",
       "4                   100      NaN    NaN              1414  Trend / Compare   \n",
       "..                  ...      ...    ...               ...              ...   \n",
       "89                   90      NaN    NaN              1031  Trend / Compare   \n",
       "90                   90      NaN    NaN               162  Trend / Compare   \n",
       "91                   90      NaN    NaN               804  Trend / Compare   \n",
       "92                   90      NaN    NaN              1061  Trend / Compare   \n",
       "93                   90      NaN    NaN               552  Trend / Compare   \n",
       "\n",
       "            Sector ICSEA  \n",
       "0       Government  1239  \n",
       "1   Non-government  1197  \n",
       "2   Non-government  1180  \n",
       "3       Government  1121  \n",
       "4   Non-government  1158  \n",
       "..             ...   ...  \n",
       "89  Non-government  1045  \n",
       "90      Government  1002  \n",
       "91  Non-government  1055  \n",
       "92  Non-government  1036  \n",
       "93  Non-government   980  \n",
       "\n",
       "[94 rows x 11 columns]"
      ],
      "text/html": "<div>\n<style scoped>\n    .dataframe tbody tr th:only-of-type {\n        vertical-align: middle;\n    }\n\n    .dataframe tbody tr th {\n        vertical-align: top;\n    }\n\n    .dataframe thead th {\n        text-align: right;\n    }\n</style>\n<table border=\"1\" class=\"dataframe\">\n  <thead>\n    <tr style=\"text-align: right;\">\n      <th></th>\n      <th>School</th>\n      <th>Year</th>\n      <th>Rank</th>\n      <th>Postcode</th>\n      <th>State Overall Score</th>\n      <th>English</th>\n      <th>Maths</th>\n      <th>Total Enrolments</th>\n      <th>Trend / Compare</th>\n      <th>Sector</th>\n      <th>ICSEA</th>\n    </tr>\n  </thead>\n  <tbody>\n    <tr>\n      <th>0</th>\n      <td>Perth Modern School</td>\n      <td>2019</td>\n      <td>1</td>\n      <td>6008</td>\n      <td>100</td>\n      <td>NaN</td>\n      <td>NaN</td>\n      <td>1418</td>\n      <td>Trend / Compare</td>\n      <td>Government</td>\n      <td>1239</td>\n    </tr>\n    <tr>\n      <th>1</th>\n      <td>St Hilda's Anglican School for Girls</td>\n      <td>2019</td>\n      <td>2</td>\n      <td>6012</td>\n      <td>100</td>\n      <td>NaN</td>\n      <td>NaN</td>\n      <td>1087</td>\n      <td>Trend / Compare</td>\n      <td>Non-government</td>\n      <td>1197</td>\n    </tr>\n    <tr>\n      <th>2</th>\n      <td>Christ Church Grammar School</td>\n      <td>2019</td>\n      <td>3</td>\n      <td>6010</td>\n      <td>100</td>\n      <td>NaN</td>\n      <td>NaN</td>\n      <td>1646</td>\n      <td>Trend / Compare</td>\n      <td>Non-government</td>\n      <td>1180</td>\n    </tr>\n    <tr>\n      <th>3</th>\n      <td>Rossmoyne Senior High School</td>\n      <td>2019</td>\n      <td>4</td>\n      <td>6148</td>\n      <td>100</td>\n      <td>NaN</td>\n      <td>NaN</td>\n      <td>2188</td>\n      <td>Trend / Compare</td>\n      <td>Government</td>\n      <td>1121</td>\n    </tr>\n    <tr>\n      <th>4</th>\n      <td>St Mary's Anglican Girls' School</td>\n      <td>2019</td>\n      <td>5</td>\n      <td>6018</td>\n      <td>100</td>\n      <td>NaN</td>\n      <td>NaN</td>\n      <td>1414</td>\n      <td>Trend / Compare</td>\n      <td>Non-government</td>\n      <td>1158</td>\n    </tr>\n    <tr>\n      <th>...</th>\n      <td>...</td>\n      <td>...</td>\n      <td>...</td>\n      <td>...</td>\n      <td>...</td>\n      <td>...</td>\n      <td>...</td>\n      <td>...</td>\n      <td>...</td>\n      <td>...</td>\n      <td>...</td>\n    </tr>\n    <tr>\n      <th>89</th>\n      <td>Swan Valley Anglican Community School</td>\n      <td>2019</td>\n      <td>90</td>\n      <td>6069</td>\n      <td>90</td>\n      <td>NaN</td>\n      <td>NaN</td>\n      <td>1031</td>\n      <td>Trend / Compare</td>\n      <td>Non-government</td>\n      <td>1045</td>\n    </tr>\n    <tr>\n      <th>90</th>\n      <td>Boyup Brook District High School</td>\n      <td>2019</td>\n      <td>91</td>\n      <td>6244</td>\n      <td>90</td>\n      <td>NaN</td>\n      <td>NaN</td>\n      <td>162</td>\n      <td>Trend / Compare</td>\n      <td>Government</td>\n      <td>1002</td>\n    </tr>\n    <tr>\n      <th>91</th>\n      <td>Mater Dei College</td>\n      <td>2019</td>\n      <td>92</td>\n      <td>6027</td>\n      <td>90</td>\n      <td>NaN</td>\n      <td>NaN</td>\n      <td>804</td>\n      <td>Trend / Compare</td>\n      <td>Non-government</td>\n      <td>1055</td>\n    </tr>\n    <tr>\n      <th>92</th>\n      <td>Emmanuel Catholic College</td>\n      <td>2019</td>\n      <td>93</td>\n      <td>6164</td>\n      <td>90</td>\n      <td>NaN</td>\n      <td>NaN</td>\n      <td>1061</td>\n      <td>Trend / Compare</td>\n      <td>Non-government</td>\n      <td>1036</td>\n    </tr>\n    <tr>\n      <th>93</th>\n      <td>Emmanuel Christian Community School</td>\n      <td>2019</td>\n      <td>94</td>\n      <td>6064</td>\n      <td>90</td>\n      <td>NaN</td>\n      <td>NaN</td>\n      <td>552</td>\n      <td>Trend / Compare</td>\n      <td>Non-government</td>\n      <td>980</td>\n    </tr>\n  </tbody>\n</table>\n<p>94 rows × 11 columns</p>\n</div>"
     },
     "metadata": {},
     "execution_count": 47
    }
   ],
   "source": [
    "# Remove the space and parenthesis strings to show only the school name\n",
    "hs_wa_2019[\"School\"] = hs_wa_2019[\"School\"].str.split('\\s+\\(', 1).str.get(0)\n",
    "hs_wa_2019"
   ]
  },
  {
   "cell_type": "code",
   "execution_count": 48,
   "metadata": {},
   "outputs": [
    {
     "output_type": "execute_result",
     "data": {
      "text/plain": [
       "                                   School  Year  Rank  Postcode  \\\n",
       "0                     Perth Modern School  2019     1      6008   \n",
       "1    St Hilda's Anglican School for Girls  2019     2      6012   \n",
       "2            Christ Church Grammar School  2019     3      6010   \n",
       "3            Rossmoyne Senior High School  2019     4      6148   \n",
       "4        St Mary's Anglican Girls' School  2019     5      6018   \n",
       "..                                    ...   ...   ...       ...   \n",
       "89  Swan Valley Anglican Community School  2019    90      6069   \n",
       "90       Boyup Brook District High School  2019    91      6244   \n",
       "91                      Mater Dei College  2019    92      6027   \n",
       "92              Emmanuel Catholic College  2019    93      6164   \n",
       "93    Emmanuel Christian Community School  2019    94      6064   \n",
       "\n",
       "    State Overall Score  Total Enrolments ICSEA  \n",
       "0                   100              1418  1239  \n",
       "1                   100              1087  1197  \n",
       "2                   100              1646  1180  \n",
       "3                   100              2188  1121  \n",
       "4                   100              1414  1158  \n",
       "..                  ...               ...   ...  \n",
       "89                   90              1031  1045  \n",
       "90                   90               162  1002  \n",
       "91                   90               804  1055  \n",
       "92                   90              1061  1036  \n",
       "93                   90               552   980  \n",
       "\n",
       "[94 rows x 7 columns]"
      ],
      "text/html": "<div>\n<style scoped>\n    .dataframe tbody tr th:only-of-type {\n        vertical-align: middle;\n    }\n\n    .dataframe tbody tr th {\n        vertical-align: top;\n    }\n\n    .dataframe thead th {\n        text-align: right;\n    }\n</style>\n<table border=\"1\" class=\"dataframe\">\n  <thead>\n    <tr style=\"text-align: right;\">\n      <th></th>\n      <th>School</th>\n      <th>Year</th>\n      <th>Rank</th>\n      <th>Postcode</th>\n      <th>State Overall Score</th>\n      <th>Total Enrolments</th>\n      <th>ICSEA</th>\n    </tr>\n  </thead>\n  <tbody>\n    <tr>\n      <th>0</th>\n      <td>Perth Modern School</td>\n      <td>2019</td>\n      <td>1</td>\n      <td>6008</td>\n      <td>100</td>\n      <td>1418</td>\n      <td>1239</td>\n    </tr>\n    <tr>\n      <th>1</th>\n      <td>St Hilda's Anglican School for Girls</td>\n      <td>2019</td>\n      <td>2</td>\n      <td>6012</td>\n      <td>100</td>\n      <td>1087</td>\n      <td>1197</td>\n    </tr>\n    <tr>\n      <th>2</th>\n      <td>Christ Church Grammar School</td>\n      <td>2019</td>\n      <td>3</td>\n      <td>6010</td>\n      <td>100</td>\n      <td>1646</td>\n      <td>1180</td>\n    </tr>\n    <tr>\n      <th>3</th>\n      <td>Rossmoyne Senior High School</td>\n      <td>2019</td>\n      <td>4</td>\n      <td>6148</td>\n      <td>100</td>\n      <td>2188</td>\n      <td>1121</td>\n    </tr>\n    <tr>\n      <th>4</th>\n      <td>St Mary's Anglican Girls' School</td>\n      <td>2019</td>\n      <td>5</td>\n      <td>6018</td>\n      <td>100</td>\n      <td>1414</td>\n      <td>1158</td>\n    </tr>\n    <tr>\n      <th>...</th>\n      <td>...</td>\n      <td>...</td>\n      <td>...</td>\n      <td>...</td>\n      <td>...</td>\n      <td>...</td>\n      <td>...</td>\n    </tr>\n    <tr>\n      <th>89</th>\n      <td>Swan Valley Anglican Community School</td>\n      <td>2019</td>\n      <td>90</td>\n      <td>6069</td>\n      <td>90</td>\n      <td>1031</td>\n      <td>1045</td>\n    </tr>\n    <tr>\n      <th>90</th>\n      <td>Boyup Brook District High School</td>\n      <td>2019</td>\n      <td>91</td>\n      <td>6244</td>\n      <td>90</td>\n      <td>162</td>\n      <td>1002</td>\n    </tr>\n    <tr>\n      <th>91</th>\n      <td>Mater Dei College</td>\n      <td>2019</td>\n      <td>92</td>\n      <td>6027</td>\n      <td>90</td>\n      <td>804</td>\n      <td>1055</td>\n    </tr>\n    <tr>\n      <th>92</th>\n      <td>Emmanuel Catholic College</td>\n      <td>2019</td>\n      <td>93</td>\n      <td>6164</td>\n      <td>90</td>\n      <td>1061</td>\n      <td>1036</td>\n    </tr>\n    <tr>\n      <th>93</th>\n      <td>Emmanuel Christian Community School</td>\n      <td>2019</td>\n      <td>94</td>\n      <td>6064</td>\n      <td>90</td>\n      <td>552</td>\n      <td>980</td>\n    </tr>\n  </tbody>\n</table>\n<p>94 rows × 7 columns</p>\n</div>"
     },
     "metadata": {},
     "execution_count": 48
    }
   ],
   "source": [
    "# remove other columns\n",
    "hs_wa_2019 = hs_wa_2019[['School', 'Year', 'Rank', 'Postcode','State Overall Score', 'Total Enrolments', 'ICSEA']]\n",
    "hs_wa_2019"
   ]
  },
  {
   "cell_type": "code",
   "execution_count": 49,
   "metadata": {},
   "outputs": [],
   "source": [
    "# replace some values to correct the spelling\n",
    "hs_wa_2019[\"School\"].replace({\"John Curtin College Of The Arts\": \"John Curtin College of the Arts\", \n",
    "                       \"Australian Christian College\": \"Australian Christian College - Southlands\",\n",
    "                       \"St Stephen's School\": \"St Stephen's School - Duncraig\",\n",
    "                       \"Schools Of Isolated & Distance Education\": \"School of Isolated and Distance Education\",\n",
    "                       \"St Mary MacKillop College\": \"St Mary Mackillop College\"\n",
    "                        }, inplace=True)"
   ]
  },
  {
   "cell_type": "code",
   "execution_count": 50,
   "metadata": {},
   "outputs": [
    {
     "output_type": "execute_result",
     "data": {
      "text/plain": [
       "                        School  Year  Rank  Postcode  State Overall Score  \\\n",
       "34           Woodthorpe School  2019    35      6155                   96   \n",
       "73  Woodvale Secondary College  2019    74      6026                   92   \n",
       "\n",
       "    Total Enrolments ICSEA  \n",
       "34               255   nan  \n",
       "73              1418  1064  "
      ],
      "text/html": "<div>\n<style scoped>\n    .dataframe tbody tr th:only-of-type {\n        vertical-align: middle;\n    }\n\n    .dataframe tbody tr th {\n        vertical-align: top;\n    }\n\n    .dataframe thead th {\n        text-align: right;\n    }\n</style>\n<table border=\"1\" class=\"dataframe\">\n  <thead>\n    <tr style=\"text-align: right;\">\n      <th></th>\n      <th>School</th>\n      <th>Year</th>\n      <th>Rank</th>\n      <th>Postcode</th>\n      <th>State Overall Score</th>\n      <th>Total Enrolments</th>\n      <th>ICSEA</th>\n    </tr>\n  </thead>\n  <tbody>\n    <tr>\n      <th>34</th>\n      <td>Woodthorpe School</td>\n      <td>2019</td>\n      <td>35</td>\n      <td>6155</td>\n      <td>96</td>\n      <td>255</td>\n      <td>nan</td>\n    </tr>\n    <tr>\n      <th>73</th>\n      <td>Woodvale Secondary College</td>\n      <td>2019</td>\n      <td>74</td>\n      <td>6026</td>\n      <td>92</td>\n      <td>1418</td>\n      <td>1064</td>\n    </tr>\n  </tbody>\n</table>\n</div>"
     },
     "metadata": {},
     "execution_count": 50
    }
   ],
   "source": [
    "hs_wa_2019[hs_wa_2019['School'].str.match(\"Wood\")]"
   ]
  },
  {
   "cell_type": "code",
   "execution_count": 51,
   "metadata": {},
   "outputs": [
    {
     "output_type": "execute_result",
     "data": {
      "text/plain": [
       "                                         School   Longitude   Latitude\n",
       "0                      Adam Road Primary School  115.635371 -33.357951\n",
       "1                     Al-Hidayah Islamic School  115.911564 -32.010358\n",
       "2                 Albany Community Kindergarten  117.880987 -35.021460\n",
       "3                         Albany Primary School  117.891611 -35.018212\n",
       "4     Albany Secondary Education Support Centre  117.866867 -34.990749\n",
       "...                                         ...         ...        ...\n",
       "1135                      Yuluma Primary School  115.789990 -31.892268\n",
       "1136                        Yuna Primary School  115.002648 -28.326566\n",
       "1137                          Woodthorpe School  115.901720 -32.056540\n",
       "1138             St Stephen's School - Carramar  115.788280 -31.717040\n",
       "1139                 Bunbury John Calvin School  115.649560 -33.350970\n",
       "\n",
       "[1140 rows x 3 columns]"
      ],
      "text/html": "<div>\n<style scoped>\n    .dataframe tbody tr th:only-of-type {\n        vertical-align: middle;\n    }\n\n    .dataframe tbody tr th {\n        vertical-align: top;\n    }\n\n    .dataframe thead th {\n        text-align: right;\n    }\n</style>\n<table border=\"1\" class=\"dataframe\">\n  <thead>\n    <tr style=\"text-align: right;\">\n      <th></th>\n      <th>School</th>\n      <th>Longitude</th>\n      <th>Latitude</th>\n    </tr>\n  </thead>\n  <tbody>\n    <tr>\n      <th>0</th>\n      <td>Adam Road Primary School</td>\n      <td>115.635371</td>\n      <td>-33.357951</td>\n    </tr>\n    <tr>\n      <th>1</th>\n      <td>Al-Hidayah Islamic School</td>\n      <td>115.911564</td>\n      <td>-32.010358</td>\n    </tr>\n    <tr>\n      <th>2</th>\n      <td>Albany Community Kindergarten</td>\n      <td>117.880987</td>\n      <td>-35.021460</td>\n    </tr>\n    <tr>\n      <th>3</th>\n      <td>Albany Primary School</td>\n      <td>117.891611</td>\n      <td>-35.018212</td>\n    </tr>\n    <tr>\n      <th>4</th>\n      <td>Albany Secondary Education Support Centre</td>\n      <td>117.866867</td>\n      <td>-34.990749</td>\n    </tr>\n    <tr>\n      <th>...</th>\n      <td>...</td>\n      <td>...</td>\n      <td>...</td>\n    </tr>\n    <tr>\n      <th>1135</th>\n      <td>Yuluma Primary School</td>\n      <td>115.789990</td>\n      <td>-31.892268</td>\n    </tr>\n    <tr>\n      <th>1136</th>\n      <td>Yuna Primary School</td>\n      <td>115.002648</td>\n      <td>-28.326566</td>\n    </tr>\n    <tr>\n      <th>1137</th>\n      <td>Woodthorpe School</td>\n      <td>115.901720</td>\n      <td>-32.056540</td>\n    </tr>\n    <tr>\n      <th>1138</th>\n      <td>St Stephen's School - Carramar</td>\n      <td>115.788280</td>\n      <td>-31.717040</td>\n    </tr>\n    <tr>\n      <th>1139</th>\n      <td>Bunbury John Calvin School</td>\n      <td>115.649560</td>\n      <td>-33.350970</td>\n    </tr>\n  </tbody>\n</table>\n<p>1140 rows × 3 columns</p>\n</div>"
     },
     "metadata": {},
     "execution_count": 51
    }
   ],
   "source": [
    "# read school_coordinates csv file\n",
    "school_coord = pd.read_csv(\"Resources/school_coordinates.csv\")\n",
    "school_coord"
   ]
  },
  {
   "cell_type": "code",
   "execution_count": 52,
   "metadata": {},
   "outputs": [
    {
     "output_type": "execute_result",
     "data": {
      "text/plain": [
       "                                   School  Year  Rank  Postcode  \\\n",
       "0                     Perth Modern School  2019     1      6008   \n",
       "1    St Hilda's Anglican School for Girls  2019     2      6012   \n",
       "2            Christ Church Grammar School  2019     3      6010   \n",
       "3            Rossmoyne Senior High School  2019     4      6148   \n",
       "4        St Mary's Anglican Girls' School  2019     5      6018   \n",
       "..                                    ...   ...   ...       ...   \n",
       "89  Swan Valley Anglican Community School  2019    90      6069   \n",
       "90       Boyup Brook District High School  2019    91      6244   \n",
       "91                      Mater Dei College  2019    92      6027   \n",
       "92              Emmanuel Catholic College  2019    93      6164   \n",
       "93    Emmanuel Christian Community School  2019    94      6064   \n",
       "\n",
       "    State Overall Score  Total Enrolments ICSEA   Longitude   Latitude  \n",
       "0                   100              1418  1239  115.836396 -31.945066  \n",
       "1                   100              1087  1197  115.767812 -32.005047  \n",
       "2                   100              1646  1180  115.776987 -31.985461  \n",
       "3                   100              2188  1121  115.870546 -32.046265  \n",
       "4                   100              1414  1158  115.766244 -31.876971  \n",
       "..                  ...               ...   ...         ...        ...  \n",
       "89                   90              1031  1045  115.985452 -31.794345  \n",
       "90                   90               162  1002  116.391338 -33.836347  \n",
       "91                   90               804  1055  115.776519 -31.764660  \n",
       "92                   90              1061  1036  115.840070 -32.128578  \n",
       "93                   90               552   980  115.848262 -31.846204  \n",
       "\n",
       "[94 rows x 9 columns]"
      ],
      "text/html": "<div>\n<style scoped>\n    .dataframe tbody tr th:only-of-type {\n        vertical-align: middle;\n    }\n\n    .dataframe tbody tr th {\n        vertical-align: top;\n    }\n\n    .dataframe thead th {\n        text-align: right;\n    }\n</style>\n<table border=\"1\" class=\"dataframe\">\n  <thead>\n    <tr style=\"text-align: right;\">\n      <th></th>\n      <th>School</th>\n      <th>Year</th>\n      <th>Rank</th>\n      <th>Postcode</th>\n      <th>State Overall Score</th>\n      <th>Total Enrolments</th>\n      <th>ICSEA</th>\n      <th>Longitude</th>\n      <th>Latitude</th>\n    </tr>\n  </thead>\n  <tbody>\n    <tr>\n      <th>0</th>\n      <td>Perth Modern School</td>\n      <td>2019</td>\n      <td>1</td>\n      <td>6008</td>\n      <td>100</td>\n      <td>1418</td>\n      <td>1239</td>\n      <td>115.836396</td>\n      <td>-31.945066</td>\n    </tr>\n    <tr>\n      <th>1</th>\n      <td>St Hilda's Anglican School for Girls</td>\n      <td>2019</td>\n      <td>2</td>\n      <td>6012</td>\n      <td>100</td>\n      <td>1087</td>\n      <td>1197</td>\n      <td>115.767812</td>\n      <td>-32.005047</td>\n    </tr>\n    <tr>\n      <th>2</th>\n      <td>Christ Church Grammar School</td>\n      <td>2019</td>\n      <td>3</td>\n      <td>6010</td>\n      <td>100</td>\n      <td>1646</td>\n      <td>1180</td>\n      <td>115.776987</td>\n      <td>-31.985461</td>\n    </tr>\n    <tr>\n      <th>3</th>\n      <td>Rossmoyne Senior High School</td>\n      <td>2019</td>\n      <td>4</td>\n      <td>6148</td>\n      <td>100</td>\n      <td>2188</td>\n      <td>1121</td>\n      <td>115.870546</td>\n      <td>-32.046265</td>\n    </tr>\n    <tr>\n      <th>4</th>\n      <td>St Mary's Anglican Girls' School</td>\n      <td>2019</td>\n      <td>5</td>\n      <td>6018</td>\n      <td>100</td>\n      <td>1414</td>\n      <td>1158</td>\n      <td>115.766244</td>\n      <td>-31.876971</td>\n    </tr>\n    <tr>\n      <th>...</th>\n      <td>...</td>\n      <td>...</td>\n      <td>...</td>\n      <td>...</td>\n      <td>...</td>\n      <td>...</td>\n      <td>...</td>\n      <td>...</td>\n      <td>...</td>\n    </tr>\n    <tr>\n      <th>89</th>\n      <td>Swan Valley Anglican Community School</td>\n      <td>2019</td>\n      <td>90</td>\n      <td>6069</td>\n      <td>90</td>\n      <td>1031</td>\n      <td>1045</td>\n      <td>115.985452</td>\n      <td>-31.794345</td>\n    </tr>\n    <tr>\n      <th>90</th>\n      <td>Boyup Brook District High School</td>\n      <td>2019</td>\n      <td>91</td>\n      <td>6244</td>\n      <td>90</td>\n      <td>162</td>\n      <td>1002</td>\n      <td>116.391338</td>\n      <td>-33.836347</td>\n    </tr>\n    <tr>\n      <th>91</th>\n      <td>Mater Dei College</td>\n      <td>2019</td>\n      <td>92</td>\n      <td>6027</td>\n      <td>90</td>\n      <td>804</td>\n      <td>1055</td>\n      <td>115.776519</td>\n      <td>-31.764660</td>\n    </tr>\n    <tr>\n      <th>92</th>\n      <td>Emmanuel Catholic College</td>\n      <td>2019</td>\n      <td>93</td>\n      <td>6164</td>\n      <td>90</td>\n      <td>1061</td>\n      <td>1036</td>\n      <td>115.840070</td>\n      <td>-32.128578</td>\n    </tr>\n    <tr>\n      <th>93</th>\n      <td>Emmanuel Christian Community School</td>\n      <td>2019</td>\n      <td>94</td>\n      <td>6064</td>\n      <td>90</td>\n      <td>552</td>\n      <td>980</td>\n      <td>115.848262</td>\n      <td>-31.846204</td>\n    </tr>\n  </tbody>\n</table>\n<p>94 rows × 9 columns</p>\n</div>"
     },
     "metadata": {},
     "execution_count": 52
    }
   ],
   "source": [
    "# merge hs_wa_2019 with school_coord\n",
    "hs_wa_2019_coord = pd.merge(hs_wa_2019, school_coord , on=['School'], how='left')\n",
    "hs_wa_2019_coord"
   ]
  },
  {
   "cell_type": "code",
   "execution_count": 53,
   "metadata": {},
   "outputs": [
    {
     "output_type": "execute_result",
     "data": {
      "text/plain": [
       "Empty DataFrame\n",
       "Columns: [School, Year, Rank, Postcode, State Overall Score, Total Enrolments, ICSEA, Longitude, Latitude]\n",
       "Index: []"
      ],
      "text/html": "<div>\n<style scoped>\n    .dataframe tbody tr th:only-of-type {\n        vertical-align: middle;\n    }\n\n    .dataframe tbody tr th {\n        vertical-align: top;\n    }\n\n    .dataframe thead th {\n        text-align: right;\n    }\n</style>\n<table border=\"1\" class=\"dataframe\">\n  <thead>\n    <tr style=\"text-align: right;\">\n      <th></th>\n      <th>School</th>\n      <th>Year</th>\n      <th>Rank</th>\n      <th>Postcode</th>\n      <th>State Overall Score</th>\n      <th>Total Enrolments</th>\n      <th>ICSEA</th>\n      <th>Longitude</th>\n      <th>Latitude</th>\n    </tr>\n  </thead>\n  <tbody>\n  </tbody>\n</table>\n</div>"
     },
     "metadata": {},
     "execution_count": 53
    }
   ],
   "source": [
    "# Check for NaN values\n",
    "# creating bool series True for NaN values  \n",
    "bool_series = pd.isnull(hs_wa_2019_coord[\"Longitude\"])  \n",
    "    \n",
    "# filtering data  \n",
    "# displaying data only with Gender = NaN  \n",
    "hs_wa_2019_coord[bool_series]"
   ]
  },
  {
   "cell_type": "code",
   "execution_count": 54,
   "metadata": {},
   "outputs": [
    {
     "output_type": "execute_result",
     "data": {
      "text/plain": [
       "                              School          Sector Gender   Religion\n",
       "0                   Mercedes College  Non-government  Girls   Catholic\n",
       "1                     Wesley College  Non-government   Boys  Christian\n",
       "2                    Penrhos College  Non-government  Girls    Uniting\n",
       "3                     Newman College  Non-government  Co-ed   Catholic\n",
       "4                 St Norbert College  Non-government  Co-ed   Catholic\n",
       "..                               ...             ...    ...        ...\n",
       "188  Bruce Rock District High School      Government  Co-ed    Secular\n",
       "189                 Shark Bay School      Government  Co-ed    Secular\n",
       "190   Pemberton District High School      Government  Co-ed    Secular\n",
       "191       Bunbury John Calvin School  Non-government  Co-ed  Christian\n",
       "192     Exmouth District High School      Government  Co-ed    Secular\n",
       "\n",
       "[193 rows x 4 columns]"
      ],
      "text/html": "<div>\n<style scoped>\n    .dataframe tbody tr th:only-of-type {\n        vertical-align: middle;\n    }\n\n    .dataframe tbody tr th {\n        vertical-align: top;\n    }\n\n    .dataframe thead th {\n        text-align: right;\n    }\n</style>\n<table border=\"1\" class=\"dataframe\">\n  <thead>\n    <tr style=\"text-align: right;\">\n      <th></th>\n      <th>School</th>\n      <th>Sector</th>\n      <th>Gender</th>\n      <th>Religion</th>\n    </tr>\n  </thead>\n  <tbody>\n    <tr>\n      <th>0</th>\n      <td>Mercedes College</td>\n      <td>Non-government</td>\n      <td>Girls</td>\n      <td>Catholic</td>\n    </tr>\n    <tr>\n      <th>1</th>\n      <td>Wesley College</td>\n      <td>Non-government</td>\n      <td>Boys</td>\n      <td>Christian</td>\n    </tr>\n    <tr>\n      <th>2</th>\n      <td>Penrhos College</td>\n      <td>Non-government</td>\n      <td>Girls</td>\n      <td>Uniting</td>\n    </tr>\n    <tr>\n      <th>3</th>\n      <td>Newman College</td>\n      <td>Non-government</td>\n      <td>Co-ed</td>\n      <td>Catholic</td>\n    </tr>\n    <tr>\n      <th>4</th>\n      <td>St Norbert College</td>\n      <td>Non-government</td>\n      <td>Co-ed</td>\n      <td>Catholic</td>\n    </tr>\n    <tr>\n      <th>...</th>\n      <td>...</td>\n      <td>...</td>\n      <td>...</td>\n      <td>...</td>\n    </tr>\n    <tr>\n      <th>188</th>\n      <td>Bruce Rock District High School</td>\n      <td>Government</td>\n      <td>Co-ed</td>\n      <td>Secular</td>\n    </tr>\n    <tr>\n      <th>189</th>\n      <td>Shark Bay School</td>\n      <td>Government</td>\n      <td>Co-ed</td>\n      <td>Secular</td>\n    </tr>\n    <tr>\n      <th>190</th>\n      <td>Pemberton District High School</td>\n      <td>Government</td>\n      <td>Co-ed</td>\n      <td>Secular</td>\n    </tr>\n    <tr>\n      <th>191</th>\n      <td>Bunbury John Calvin School</td>\n      <td>Non-government</td>\n      <td>Co-ed</td>\n      <td>Christian</td>\n    </tr>\n    <tr>\n      <th>192</th>\n      <td>Exmouth District High School</td>\n      <td>Government</td>\n      <td>Co-ed</td>\n      <td>Secular</td>\n    </tr>\n  </tbody>\n</table>\n<p>193 rows × 4 columns</p>\n</div>"
     },
     "metadata": {},
     "execution_count": 54
    }
   ],
   "source": [
    "# read sectors csv file\n",
    "sectors = pd.read_csv(\"Resources/sectors.csv\")\n",
    "sectors"
   ]
  },
  {
   "cell_type": "code",
   "execution_count": 55,
   "metadata": {},
   "outputs": [
    {
     "output_type": "execute_result",
     "data": {
      "text/plain": [
       "                                   School  Year  Rank  Postcode  \\\n",
       "0                     Perth Modern School  2019     1      6008   \n",
       "1    St Hilda's Anglican School for Girls  2019     2      6012   \n",
       "2            Christ Church Grammar School  2019     3      6010   \n",
       "3            Rossmoyne Senior High School  2019     4      6148   \n",
       "4        St Mary's Anglican Girls' School  2019     5      6018   \n",
       "..                                    ...   ...   ...       ...   \n",
       "89  Swan Valley Anglican Community School  2019    90      6069   \n",
       "90       Boyup Brook District High School  2019    91      6244   \n",
       "91                      Mater Dei College  2019    92      6027   \n",
       "92              Emmanuel Catholic College  2019    93      6164   \n",
       "93    Emmanuel Christian Community School  2019    94      6064   \n",
       "\n",
       "    State Overall Score  Total Enrolments ICSEA   Longitude   Latitude  \\\n",
       "0                   100              1418  1239  115.836396 -31.945066   \n",
       "1                   100              1087  1197  115.767812 -32.005047   \n",
       "2                   100              1646  1180  115.776987 -31.985461   \n",
       "3                   100              2188  1121  115.870546 -32.046265   \n",
       "4                   100              1414  1158  115.766244 -31.876971   \n",
       "..                  ...               ...   ...         ...        ...   \n",
       "89                   90              1031  1045  115.985452 -31.794345   \n",
       "90                   90               162  1002  116.391338 -33.836347   \n",
       "91                   90               804  1055  115.776519 -31.764660   \n",
       "92                   90              1061  1036  115.840070 -32.128578   \n",
       "93                   90               552   980  115.848262 -31.846204   \n",
       "\n",
       "            Sector Gender   Religion  \n",
       "0       Government  Co-ed    Secular  \n",
       "1   Non-government  Girls   Anglican  \n",
       "2   Non-government   Boys   Anglican  \n",
       "3       Government  Co-ed    Secular  \n",
       "4   Non-government  Girls   Anglican  \n",
       "..             ...    ...        ...  \n",
       "89  Non-government  Co-ed   Anglican  \n",
       "90      Government  Co-ed    Secular  \n",
       "91  Non-government  Co-ed   Catholic  \n",
       "92  Non-government  Co-ed   Catholic  \n",
       "93  Non-government  Co-ed  Christian  \n",
       "\n",
       "[94 rows x 12 columns]"
      ],
      "text/html": "<div>\n<style scoped>\n    .dataframe tbody tr th:only-of-type {\n        vertical-align: middle;\n    }\n\n    .dataframe tbody tr th {\n        vertical-align: top;\n    }\n\n    .dataframe thead th {\n        text-align: right;\n    }\n</style>\n<table border=\"1\" class=\"dataframe\">\n  <thead>\n    <tr style=\"text-align: right;\">\n      <th></th>\n      <th>School</th>\n      <th>Year</th>\n      <th>Rank</th>\n      <th>Postcode</th>\n      <th>State Overall Score</th>\n      <th>Total Enrolments</th>\n      <th>ICSEA</th>\n      <th>Longitude</th>\n      <th>Latitude</th>\n      <th>Sector</th>\n      <th>Gender</th>\n      <th>Religion</th>\n    </tr>\n  </thead>\n  <tbody>\n    <tr>\n      <th>0</th>\n      <td>Perth Modern School</td>\n      <td>2019</td>\n      <td>1</td>\n      <td>6008</td>\n      <td>100</td>\n      <td>1418</td>\n      <td>1239</td>\n      <td>115.836396</td>\n      <td>-31.945066</td>\n      <td>Government</td>\n      <td>Co-ed</td>\n      <td>Secular</td>\n    </tr>\n    <tr>\n      <th>1</th>\n      <td>St Hilda's Anglican School for Girls</td>\n      <td>2019</td>\n      <td>2</td>\n      <td>6012</td>\n      <td>100</td>\n      <td>1087</td>\n      <td>1197</td>\n      <td>115.767812</td>\n      <td>-32.005047</td>\n      <td>Non-government</td>\n      <td>Girls</td>\n      <td>Anglican</td>\n    </tr>\n    <tr>\n      <th>2</th>\n      <td>Christ Church Grammar School</td>\n      <td>2019</td>\n      <td>3</td>\n      <td>6010</td>\n      <td>100</td>\n      <td>1646</td>\n      <td>1180</td>\n      <td>115.776987</td>\n      <td>-31.985461</td>\n      <td>Non-government</td>\n      <td>Boys</td>\n      <td>Anglican</td>\n    </tr>\n    <tr>\n      <th>3</th>\n      <td>Rossmoyne Senior High School</td>\n      <td>2019</td>\n      <td>4</td>\n      <td>6148</td>\n      <td>100</td>\n      <td>2188</td>\n      <td>1121</td>\n      <td>115.870546</td>\n      <td>-32.046265</td>\n      <td>Government</td>\n      <td>Co-ed</td>\n      <td>Secular</td>\n    </tr>\n    <tr>\n      <th>4</th>\n      <td>St Mary's Anglican Girls' School</td>\n      <td>2019</td>\n      <td>5</td>\n      <td>6018</td>\n      <td>100</td>\n      <td>1414</td>\n      <td>1158</td>\n      <td>115.766244</td>\n      <td>-31.876971</td>\n      <td>Non-government</td>\n      <td>Girls</td>\n      <td>Anglican</td>\n    </tr>\n    <tr>\n      <th>...</th>\n      <td>...</td>\n      <td>...</td>\n      <td>...</td>\n      <td>...</td>\n      <td>...</td>\n      <td>...</td>\n      <td>...</td>\n      <td>...</td>\n      <td>...</td>\n      <td>...</td>\n      <td>...</td>\n      <td>...</td>\n    </tr>\n    <tr>\n      <th>89</th>\n      <td>Swan Valley Anglican Community School</td>\n      <td>2019</td>\n      <td>90</td>\n      <td>6069</td>\n      <td>90</td>\n      <td>1031</td>\n      <td>1045</td>\n      <td>115.985452</td>\n      <td>-31.794345</td>\n      <td>Non-government</td>\n      <td>Co-ed</td>\n      <td>Anglican</td>\n    </tr>\n    <tr>\n      <th>90</th>\n      <td>Boyup Brook District High School</td>\n      <td>2019</td>\n      <td>91</td>\n      <td>6244</td>\n      <td>90</td>\n      <td>162</td>\n      <td>1002</td>\n      <td>116.391338</td>\n      <td>-33.836347</td>\n      <td>Government</td>\n      <td>Co-ed</td>\n      <td>Secular</td>\n    </tr>\n    <tr>\n      <th>91</th>\n      <td>Mater Dei College</td>\n      <td>2019</td>\n      <td>92</td>\n      <td>6027</td>\n      <td>90</td>\n      <td>804</td>\n      <td>1055</td>\n      <td>115.776519</td>\n      <td>-31.764660</td>\n      <td>Non-government</td>\n      <td>Co-ed</td>\n      <td>Catholic</td>\n    </tr>\n    <tr>\n      <th>92</th>\n      <td>Emmanuel Catholic College</td>\n      <td>2019</td>\n      <td>93</td>\n      <td>6164</td>\n      <td>90</td>\n      <td>1061</td>\n      <td>1036</td>\n      <td>115.840070</td>\n      <td>-32.128578</td>\n      <td>Non-government</td>\n      <td>Co-ed</td>\n      <td>Catholic</td>\n    </tr>\n    <tr>\n      <th>93</th>\n      <td>Emmanuel Christian Community School</td>\n      <td>2019</td>\n      <td>94</td>\n      <td>6064</td>\n      <td>90</td>\n      <td>552</td>\n      <td>980</td>\n      <td>115.848262</td>\n      <td>-31.846204</td>\n      <td>Non-government</td>\n      <td>Co-ed</td>\n      <td>Christian</td>\n    </tr>\n  </tbody>\n</table>\n<p>94 rows × 12 columns</p>\n</div>"
     },
     "metadata": {},
     "execution_count": 55
    }
   ],
   "source": [
    "# merge wa_hs_ratings_icsea with sectors\n",
    "wa_hs_icsea_2019 = pd.merge(hs_wa_2019_coord, sectors , on=['School'], how='left')\n",
    "wa_hs_icsea_2019"
   ]
  },
  {
   "cell_type": "code",
   "execution_count": 56,
   "metadata": {},
   "outputs": [
    {
     "output_type": "execute_result",
     "data": {
      "text/plain": [
       "Empty DataFrame\n",
       "Columns: [School, Year, Rank, Postcode, State Overall Score, Total Enrolments, ICSEA, Longitude, Latitude, Sector, Gender, Religion]\n",
       "Index: []"
      ],
      "text/html": "<div>\n<style scoped>\n    .dataframe tbody tr th:only-of-type {\n        vertical-align: middle;\n    }\n\n    .dataframe tbody tr th {\n        vertical-align: top;\n    }\n\n    .dataframe thead th {\n        text-align: right;\n    }\n</style>\n<table border=\"1\" class=\"dataframe\">\n  <thead>\n    <tr style=\"text-align: right;\">\n      <th></th>\n      <th>School</th>\n      <th>Year</th>\n      <th>Rank</th>\n      <th>Postcode</th>\n      <th>State Overall Score</th>\n      <th>Total Enrolments</th>\n      <th>ICSEA</th>\n      <th>Longitude</th>\n      <th>Latitude</th>\n      <th>Sector</th>\n      <th>Gender</th>\n      <th>Religion</th>\n    </tr>\n  </thead>\n  <tbody>\n  </tbody>\n</table>\n</div>"
     },
     "metadata": {},
     "execution_count": 56
    }
   ],
   "source": [
    "# Check for NaN values\n",
    "# creating bool series True for NaN values  \n",
    "bool_series = pd.isnull(wa_hs_icsea_2019[\"Sector\"])  \n",
    "    \n",
    "# filtering data  \n",
    "# displaying data only with Gender = NaN  \n",
    "wa_hs_icsea_2019[bool_series]"
   ]
  },
  {
   "cell_type": "code",
   "execution_count": 57,
   "metadata": {},
   "outputs": [
    {
     "output_type": "execute_result",
     "data": {
      "text/plain": [
       "               School  Year  Rank  Postcode  State Overall Score  \\\n",
       "34  Woodthorpe School  2019    35      6155                   96   \n",
       "\n",
       "    Total Enrolments ICSEA  Longitude  Latitude          Sector Gender  \\\n",
       "34               255   nan  115.90172 -32.05654  Non-government  Co-ed   \n",
       "\n",
       "              Religion  \n",
       "34  Brethren Christian  "
      ],
      "text/html": "<div>\n<style scoped>\n    .dataframe tbody tr th:only-of-type {\n        vertical-align: middle;\n    }\n\n    .dataframe tbody tr th {\n        vertical-align: top;\n    }\n\n    .dataframe thead th {\n        text-align: right;\n    }\n</style>\n<table border=\"1\" class=\"dataframe\">\n  <thead>\n    <tr style=\"text-align: right;\">\n      <th></th>\n      <th>School</th>\n      <th>Year</th>\n      <th>Rank</th>\n      <th>Postcode</th>\n      <th>State Overall Score</th>\n      <th>Total Enrolments</th>\n      <th>ICSEA</th>\n      <th>Longitude</th>\n      <th>Latitude</th>\n      <th>Sector</th>\n      <th>Gender</th>\n      <th>Religion</th>\n    </tr>\n  </thead>\n  <tbody>\n    <tr>\n      <th>34</th>\n      <td>Woodthorpe School</td>\n      <td>2019</td>\n      <td>35</td>\n      <td>6155</td>\n      <td>96</td>\n      <td>255</td>\n      <td>nan</td>\n      <td>115.90172</td>\n      <td>-32.05654</td>\n      <td>Non-government</td>\n      <td>Co-ed</td>\n      <td>Brethren Christian</td>\n    </tr>\n  </tbody>\n</table>\n</div>"
     },
     "metadata": {},
     "execution_count": 57
    }
   ],
   "source": [
    "# check for \"nan\" values (known value in the dataset)\n",
    "wa_hs_icsea_2019.loc[wa_hs_icsea_2019[\"ICSEA\"] == \"nan\", :]"
   ]
  },
  {
   "cell_type": "code",
   "execution_count": 58,
   "metadata": {},
   "outputs": [],
   "source": [
    "# replaced nan with 983\n",
    "wa_hs_icsea_2019 = wa_hs_icsea_2019.replace('nan', 983)"
   ]
  },
  {
   "cell_type": "code",
   "execution_count": 59,
   "metadata": {},
   "outputs": [
    {
     "output_type": "execute_result",
     "data": {
      "text/plain": [
       "Empty DataFrame\n",
       "Columns: [School, Year, Rank, Postcode, State Overall Score, Total Enrolments, ICSEA, Longitude, Latitude, Sector, Gender, Religion]\n",
       "Index: []"
      ],
      "text/html": "<div>\n<style scoped>\n    .dataframe tbody tr th:only-of-type {\n        vertical-align: middle;\n    }\n\n    .dataframe tbody tr th {\n        vertical-align: top;\n    }\n\n    .dataframe thead th {\n        text-align: right;\n    }\n</style>\n<table border=\"1\" class=\"dataframe\">\n  <thead>\n    <tr style=\"text-align: right;\">\n      <th></th>\n      <th>School</th>\n      <th>Year</th>\n      <th>Rank</th>\n      <th>Postcode</th>\n      <th>State Overall Score</th>\n      <th>Total Enrolments</th>\n      <th>ICSEA</th>\n      <th>Longitude</th>\n      <th>Latitude</th>\n      <th>Sector</th>\n      <th>Gender</th>\n      <th>Religion</th>\n    </tr>\n  </thead>\n  <tbody>\n  </tbody>\n</table>\n</div>"
     },
     "metadata": {},
     "execution_count": 59
    }
   ],
   "source": [
    "# check for \"nan\" values (known value in the dataset)\n",
    "wa_hs_icsea_2019.loc[wa_hs_icsea_2019[\"ICSEA\"] == \"nan\", :]"
   ]
  },
  {
   "cell_type": "code",
   "execution_count": 60,
   "metadata": {},
   "outputs": [],
   "source": [
    "# save the wa_hs_icsea_2019 dataframe to a CSV file\n",
    "wa_hs_icsea_2019.to_csv(\"Resources/wa_hs_icsea_2019.csv\", index = False)"
   ]
  },
  {
   "cell_type": "code",
   "execution_count": 61,
   "metadata": {},
   "outputs": [
    {
     "output_type": "execute_result",
     "data": {
      "text/plain": [
       "                                      School  Year  Rank  Postcode  \\\n",
       "0                        Perth Modern School  2018     1      6008   \n",
       "1               Christ Church Grammar School  2018     2      6010   \n",
       "2                                Hale School  2018     3      6019   \n",
       "3               Rossmoyne Senior High School  2018     4      6148   \n",
       "4       St Hilda's Anglican School for Girls  2018     5      6012   \n",
       "..                                       ...   ...   ...       ...   \n",
       "88                  Mandurah Baptist College  2018    89      6180   \n",
       "89                 Ashdale Secondary College  2018    90      6065   \n",
       "90                 St Mary MacKillop College  2018    91      6280   \n",
       "91  John Wollaston Anglican Community School  2018    92      6111   \n",
       "92                  Bunbury Catholic College  2018    93      6230   \n",
       "\n",
       "    State Overall Score  Total Enrolments  \n",
       "0                   100              1411  \n",
       "1                   100              1644  \n",
       "2                   100              1504  \n",
       "3                   100              2122  \n",
       "4                   100              1121  \n",
       "..                  ...               ...  \n",
       "88                   90              1174  \n",
       "89                   90              1597  \n",
       "90                   90              1326  \n",
       "91                   90               897  \n",
       "92                   90              1415  \n",
       "\n",
       "[93 rows x 6 columns]"
      ],
      "text/html": "<div>\n<style scoped>\n    .dataframe tbody tr th:only-of-type {\n        vertical-align: middle;\n    }\n\n    .dataframe tbody tr th {\n        vertical-align: top;\n    }\n\n    .dataframe thead th {\n        text-align: right;\n    }\n</style>\n<table border=\"1\" class=\"dataframe\">\n  <thead>\n    <tr style=\"text-align: right;\">\n      <th></th>\n      <th>School</th>\n      <th>Year</th>\n      <th>Rank</th>\n      <th>Postcode</th>\n      <th>State Overall Score</th>\n      <th>Total Enrolments</th>\n    </tr>\n  </thead>\n  <tbody>\n    <tr>\n      <th>0</th>\n      <td>Perth Modern School</td>\n      <td>2018</td>\n      <td>1</td>\n      <td>6008</td>\n      <td>100</td>\n      <td>1411</td>\n    </tr>\n    <tr>\n      <th>1</th>\n      <td>Christ Church Grammar School</td>\n      <td>2018</td>\n      <td>2</td>\n      <td>6010</td>\n      <td>100</td>\n      <td>1644</td>\n    </tr>\n    <tr>\n      <th>2</th>\n      <td>Hale School</td>\n      <td>2018</td>\n      <td>3</td>\n      <td>6019</td>\n      <td>100</td>\n      <td>1504</td>\n    </tr>\n    <tr>\n      <th>3</th>\n      <td>Rossmoyne Senior High School</td>\n      <td>2018</td>\n      <td>4</td>\n      <td>6148</td>\n      <td>100</td>\n      <td>2122</td>\n    </tr>\n    <tr>\n      <th>4</th>\n      <td>St Hilda's Anglican School for Girls</td>\n      <td>2018</td>\n      <td>5</td>\n      <td>6012</td>\n      <td>100</td>\n      <td>1121</td>\n    </tr>\n    <tr>\n      <th>...</th>\n      <td>...</td>\n      <td>...</td>\n      <td>...</td>\n      <td>...</td>\n      <td>...</td>\n      <td>...</td>\n    </tr>\n    <tr>\n      <th>88</th>\n      <td>Mandurah Baptist College</td>\n      <td>2018</td>\n      <td>89</td>\n      <td>6180</td>\n      <td>90</td>\n      <td>1174</td>\n    </tr>\n    <tr>\n      <th>89</th>\n      <td>Ashdale Secondary College</td>\n      <td>2018</td>\n      <td>90</td>\n      <td>6065</td>\n      <td>90</td>\n      <td>1597</td>\n    </tr>\n    <tr>\n      <th>90</th>\n      <td>St Mary MacKillop College</td>\n      <td>2018</td>\n      <td>91</td>\n      <td>6280</td>\n      <td>90</td>\n      <td>1326</td>\n    </tr>\n    <tr>\n      <th>91</th>\n      <td>John Wollaston Anglican Community School</td>\n      <td>2018</td>\n      <td>92</td>\n      <td>6111</td>\n      <td>90</td>\n      <td>897</td>\n    </tr>\n    <tr>\n      <th>92</th>\n      <td>Bunbury Catholic College</td>\n      <td>2018</td>\n      <td>93</td>\n      <td>6230</td>\n      <td>90</td>\n      <td>1415</td>\n    </tr>\n  </tbody>\n</table>\n<p>93 rows × 6 columns</p>\n</div>"
     },
     "metadata": {},
     "execution_count": 61
    }
   ],
   "source": [
    "# get the 2018 url WA school ranking\n",
    "rank_2018 = \"https://bettereducation.com.au/school/secondary/wa/wa_top_secondary_schools.aspx?yr=2018\"\n",
    "\n",
    "# Use panda's `read_html` to parse the s1 url\n",
    "hs_wa_2018 = pd.read_html(rank_2018, header=0)[0]\n",
    "\n",
    "# insert a column 'year' with values of '2018'\n",
    "hs_wa_2018.insert(1, 'Year', 2018)\n",
    "\n",
    "# insert a column 'Rank' with values of incremental values'\n",
    "hs_wa_2018.insert(2, 'Rank', range(1, 1 + len(hs_wa_2018)))\n",
    "\n",
    "\n",
    "# replace some values to correct the spelling\n",
    "hs_wa_2018[\"School\"].replace({\"Australian Islamic College (Kewdale),Kewdale,WA,6105\": \"Australian Islamic College - Kewdale\"}, inplace=True)\n",
    "\n",
    "# Remove other strings after a comma to show only the school name\n",
    "hs_wa_2018[\"School\"] = hs_wa_2018[\"School\"].str.split(',', 1).str.get(0)\n",
    "\n",
    "# Remove the space and parenthesis strings to show only the school name\n",
    "hs_wa_2018[\"School\"] = hs_wa_2018[\"School\"].str.split('\\s+\\(', 1).str.get(0)\n",
    "\n",
    "# remove other columns\n",
    "hs_wa_2018 = hs_wa_2018[['School', 'Year', 'Rank', 'Postcode','State Overall Score', 'Total Enrolments']]\n",
    "hs_wa_2018"
   ]
  },
  {
   "cell_type": "code",
   "execution_count": 62,
   "metadata": {},
   "outputs": [],
   "source": [
    "# replace some values to correct the spelling\n",
    "hs_wa_2018[\"School\"].replace({\"John Curtin College Of The Arts\": \"John Curtin College of the Arts\", \n",
    "                       \"Australian Christian College\": \"Australian Christian College - Southlands\",\n",
    "                       \"St Stephen's School\": \"St Stephen's School - Duncraig\",\n",
    "                       \"Schools Of Isolated & Distance Education\": \"School of Isolated and Distance Education\",\n",
    "                       \"St Mary MacKillop College\": \"St Mary Mackillop College\"\n",
    "                        }, inplace=True)"
   ]
  },
  {
   "cell_type": "code",
   "execution_count": 63,
   "metadata": {},
   "outputs": [
    {
     "output_type": "execute_result",
     "data": {
      "text/plain": [
       "                                       School  ICSEA\n",
       "0                         Perth Modern School   1239\n",
       "1        St Hilda's Anglican School for Girls   1197\n",
       "2                Christ Church Grammar School   1180\n",
       "3                Rossmoyne Senior High School   1121\n",
       "4            St Mary's Anglican Girls' School   1158\n",
       "..                                        ...    ...\n",
       "108              Exmouth District High School   1016\n",
       "109                    Seton Catholic College   1038\n",
       "110                  Mandurah Baptist College   1051\n",
       "111  John Wollaston Anglican Community School   1054\n",
       "112                Bunbury Senior High School   1019\n",
       "\n",
       "[113 rows x 2 columns]"
      ],
      "text/html": "<div>\n<style scoped>\n    .dataframe tbody tr th:only-of-type {\n        vertical-align: middle;\n    }\n\n    .dataframe tbody tr th {\n        vertical-align: top;\n    }\n\n    .dataframe thead th {\n        text-align: right;\n    }\n</style>\n<table border=\"1\" class=\"dataframe\">\n  <thead>\n    <tr style=\"text-align: right;\">\n      <th></th>\n      <th>School</th>\n      <th>ICSEA</th>\n    </tr>\n  </thead>\n  <tbody>\n    <tr>\n      <th>0</th>\n      <td>Perth Modern School</td>\n      <td>1239</td>\n    </tr>\n    <tr>\n      <th>1</th>\n      <td>St Hilda's Anglican School for Girls</td>\n      <td>1197</td>\n    </tr>\n    <tr>\n      <th>2</th>\n      <td>Christ Church Grammar School</td>\n      <td>1180</td>\n    </tr>\n    <tr>\n      <th>3</th>\n      <td>Rossmoyne Senior High School</td>\n      <td>1121</td>\n    </tr>\n    <tr>\n      <th>4</th>\n      <td>St Mary's Anglican Girls' School</td>\n      <td>1158</td>\n    </tr>\n    <tr>\n      <th>...</th>\n      <td>...</td>\n      <td>...</td>\n    </tr>\n    <tr>\n      <th>108</th>\n      <td>Exmouth District High School</td>\n      <td>1016</td>\n    </tr>\n    <tr>\n      <th>109</th>\n      <td>Seton Catholic College</td>\n      <td>1038</td>\n    </tr>\n    <tr>\n      <th>110</th>\n      <td>Mandurah Baptist College</td>\n      <td>1051</td>\n    </tr>\n    <tr>\n      <th>111</th>\n      <td>John Wollaston Anglican Community School</td>\n      <td>1054</td>\n    </tr>\n    <tr>\n      <th>112</th>\n      <td>Bunbury Senior High School</td>\n      <td>1019</td>\n    </tr>\n  </tbody>\n</table>\n<p>113 rows × 2 columns</p>\n</div>"
     },
     "metadata": {},
     "execution_count": 63
    }
   ],
   "source": [
    "# read icsea_full csv file (2018 down to 2016 has no ICSEA values)\n",
    "icsea_full = pd.read_csv(\"Resources/icsea_full.csv\")\n",
    "icsea_full"
   ]
  },
  {
   "cell_type": "code",
   "execution_count": 64,
   "metadata": {},
   "outputs": [
    {
     "output_type": "execute_result",
     "data": {
      "text/plain": [
       "                                      School  Year  Rank  Postcode  \\\n",
       "0                        Perth Modern School  2018     1      6008   \n",
       "1               Christ Church Grammar School  2018     2      6010   \n",
       "2                                Hale School  2018     3      6019   \n",
       "3               Rossmoyne Senior High School  2018     4      6148   \n",
       "4       St Hilda's Anglican School for Girls  2018     5      6012   \n",
       "..                                       ...   ...   ...       ...   \n",
       "88                  Mandurah Baptist College  2018    89      6180   \n",
       "89                 Ashdale Secondary College  2018    90      6065   \n",
       "90                 St Mary Mackillop College  2018    91      6280   \n",
       "91  John Wollaston Anglican Community School  2018    92      6111   \n",
       "92                  Bunbury Catholic College  2018    93      6230   \n",
       "\n",
       "    State Overall Score  Total Enrolments  ICSEA  \n",
       "0                   100              1411   1239  \n",
       "1                   100              1644   1180  \n",
       "2                   100              1504   1165  \n",
       "3                   100              2122   1121  \n",
       "4                   100              1121   1197  \n",
       "..                  ...               ...    ...  \n",
       "88                   90              1174   1051  \n",
       "89                   90              1597   1030  \n",
       "90                   90              1326   1045  \n",
       "91                   90               897   1054  \n",
       "92                   90              1415   1035  \n",
       "\n",
       "[93 rows x 7 columns]"
      ],
      "text/html": "<div>\n<style scoped>\n    .dataframe tbody tr th:only-of-type {\n        vertical-align: middle;\n    }\n\n    .dataframe tbody tr th {\n        vertical-align: top;\n    }\n\n    .dataframe thead th {\n        text-align: right;\n    }\n</style>\n<table border=\"1\" class=\"dataframe\">\n  <thead>\n    <tr style=\"text-align: right;\">\n      <th></th>\n      <th>School</th>\n      <th>Year</th>\n      <th>Rank</th>\n      <th>Postcode</th>\n      <th>State Overall Score</th>\n      <th>Total Enrolments</th>\n      <th>ICSEA</th>\n    </tr>\n  </thead>\n  <tbody>\n    <tr>\n      <th>0</th>\n      <td>Perth Modern School</td>\n      <td>2018</td>\n      <td>1</td>\n      <td>6008</td>\n      <td>100</td>\n      <td>1411</td>\n      <td>1239</td>\n    </tr>\n    <tr>\n      <th>1</th>\n      <td>Christ Church Grammar School</td>\n      <td>2018</td>\n      <td>2</td>\n      <td>6010</td>\n      <td>100</td>\n      <td>1644</td>\n      <td>1180</td>\n    </tr>\n    <tr>\n      <th>2</th>\n      <td>Hale School</td>\n      <td>2018</td>\n      <td>3</td>\n      <td>6019</td>\n      <td>100</td>\n      <td>1504</td>\n      <td>1165</td>\n    </tr>\n    <tr>\n      <th>3</th>\n      <td>Rossmoyne Senior High School</td>\n      <td>2018</td>\n      <td>4</td>\n      <td>6148</td>\n      <td>100</td>\n      <td>2122</td>\n      <td>1121</td>\n    </tr>\n    <tr>\n      <th>4</th>\n      <td>St Hilda's Anglican School for Girls</td>\n      <td>2018</td>\n      <td>5</td>\n      <td>6012</td>\n      <td>100</td>\n      <td>1121</td>\n      <td>1197</td>\n    </tr>\n    <tr>\n      <th>...</th>\n      <td>...</td>\n      <td>...</td>\n      <td>...</td>\n      <td>...</td>\n      <td>...</td>\n      <td>...</td>\n      <td>...</td>\n    </tr>\n    <tr>\n      <th>88</th>\n      <td>Mandurah Baptist College</td>\n      <td>2018</td>\n      <td>89</td>\n      <td>6180</td>\n      <td>90</td>\n      <td>1174</td>\n      <td>1051</td>\n    </tr>\n    <tr>\n      <th>89</th>\n      <td>Ashdale Secondary College</td>\n      <td>2018</td>\n      <td>90</td>\n      <td>6065</td>\n      <td>90</td>\n      <td>1597</td>\n      <td>1030</td>\n    </tr>\n    <tr>\n      <th>90</th>\n      <td>St Mary Mackillop College</td>\n      <td>2018</td>\n      <td>91</td>\n      <td>6280</td>\n      <td>90</td>\n      <td>1326</td>\n      <td>1045</td>\n    </tr>\n    <tr>\n      <th>91</th>\n      <td>John Wollaston Anglican Community School</td>\n      <td>2018</td>\n      <td>92</td>\n      <td>6111</td>\n      <td>90</td>\n      <td>897</td>\n      <td>1054</td>\n    </tr>\n    <tr>\n      <th>92</th>\n      <td>Bunbury Catholic College</td>\n      <td>2018</td>\n      <td>93</td>\n      <td>6230</td>\n      <td>90</td>\n      <td>1415</td>\n      <td>1035</td>\n    </tr>\n  </tbody>\n</table>\n<p>93 rows × 7 columns</p>\n</div>"
     },
     "metadata": {},
     "execution_count": 64
    }
   ],
   "source": [
    "# merge hs_wa_2018 with icsea_full\n",
    "hs_wa_2018_merge = pd.merge(hs_wa_2018, icsea_full , on=['School'], how='left')\n",
    "hs_wa_2018_merge"
   ]
  },
  {
   "cell_type": "code",
   "execution_count": 65,
   "metadata": {},
   "outputs": [
    {
     "output_type": "execute_result",
     "data": {
      "text/plain": [
       "Empty DataFrame\n",
       "Columns: [School, Year, Rank, Postcode, State Overall Score, Total Enrolments, ICSEA]\n",
       "Index: []"
      ],
      "text/html": "<div>\n<style scoped>\n    .dataframe tbody tr th:only-of-type {\n        vertical-align: middle;\n    }\n\n    .dataframe tbody tr th {\n        vertical-align: top;\n    }\n\n    .dataframe thead th {\n        text-align: right;\n    }\n</style>\n<table border=\"1\" class=\"dataframe\">\n  <thead>\n    <tr style=\"text-align: right;\">\n      <th></th>\n      <th>School</th>\n      <th>Year</th>\n      <th>Rank</th>\n      <th>Postcode</th>\n      <th>State Overall Score</th>\n      <th>Total Enrolments</th>\n      <th>ICSEA</th>\n    </tr>\n  </thead>\n  <tbody>\n  </tbody>\n</table>\n</div>"
     },
     "metadata": {},
     "execution_count": 65
    }
   ],
   "source": [
    "# Check for NaN values\n",
    "# creating bool series True for NaN values  \n",
    "bool_series = pd.isnull(hs_wa_2018_merge[\"ICSEA\"])  \n",
    "    \n",
    "# filtering data  \n",
    "# displaying data only with Gender = NaN  \n",
    "hs_wa_2018_merge[bool_series]"
   ]
  },
  {
   "cell_type": "code",
   "execution_count": 66,
   "metadata": {},
   "outputs": [
    {
     "output_type": "execute_result",
     "data": {
      "text/plain": [
       "                                      School  Year  Rank  Postcode  \\\n",
       "0                        Perth Modern School  2018     1      6008   \n",
       "1               Christ Church Grammar School  2018     2      6010   \n",
       "2                                Hale School  2018     3      6019   \n",
       "3               Rossmoyne Senior High School  2018     4      6148   \n",
       "4       St Hilda's Anglican School for Girls  2018     5      6012   \n",
       "..                                       ...   ...   ...       ...   \n",
       "88                  Mandurah Baptist College  2018    89      6180   \n",
       "89                 Ashdale Secondary College  2018    90      6065   \n",
       "90                 St Mary Mackillop College  2018    91      6280   \n",
       "91  John Wollaston Anglican Community School  2018    92      6111   \n",
       "92                  Bunbury Catholic College  2018    93      6230   \n",
       "\n",
       "    State Overall Score  Total Enrolments  ICSEA   Longitude   Latitude  \n",
       "0                   100              1411   1239  115.836396 -31.945066  \n",
       "1                   100              1644   1180  115.776987 -31.985461  \n",
       "2                   100              1504   1165  115.783783 -31.912322  \n",
       "3                   100              2122   1121  115.870546 -32.046265  \n",
       "4                   100              1121   1197  115.767812 -32.005047  \n",
       "..                  ...               ...    ...         ...        ...  \n",
       "88                   90              1174   1051  115.760118 -32.478307  \n",
       "89                   90              1597   1030  115.841495 -31.811623  \n",
       "90                   90              1326   1045  115.330251 -33.662607  \n",
       "91                   90               897   1054  116.007834 -32.104726  \n",
       "92                   90              1415   1035  115.661424 -33.343422  \n",
       "\n",
       "[93 rows x 9 columns]"
      ],
      "text/html": "<div>\n<style scoped>\n    .dataframe tbody tr th:only-of-type {\n        vertical-align: middle;\n    }\n\n    .dataframe tbody tr th {\n        vertical-align: top;\n    }\n\n    .dataframe thead th {\n        text-align: right;\n    }\n</style>\n<table border=\"1\" class=\"dataframe\">\n  <thead>\n    <tr style=\"text-align: right;\">\n      <th></th>\n      <th>School</th>\n      <th>Year</th>\n      <th>Rank</th>\n      <th>Postcode</th>\n      <th>State Overall Score</th>\n      <th>Total Enrolments</th>\n      <th>ICSEA</th>\n      <th>Longitude</th>\n      <th>Latitude</th>\n    </tr>\n  </thead>\n  <tbody>\n    <tr>\n      <th>0</th>\n      <td>Perth Modern School</td>\n      <td>2018</td>\n      <td>1</td>\n      <td>6008</td>\n      <td>100</td>\n      <td>1411</td>\n      <td>1239</td>\n      <td>115.836396</td>\n      <td>-31.945066</td>\n    </tr>\n    <tr>\n      <th>1</th>\n      <td>Christ Church Grammar School</td>\n      <td>2018</td>\n      <td>2</td>\n      <td>6010</td>\n      <td>100</td>\n      <td>1644</td>\n      <td>1180</td>\n      <td>115.776987</td>\n      <td>-31.985461</td>\n    </tr>\n    <tr>\n      <th>2</th>\n      <td>Hale School</td>\n      <td>2018</td>\n      <td>3</td>\n      <td>6019</td>\n      <td>100</td>\n      <td>1504</td>\n      <td>1165</td>\n      <td>115.783783</td>\n      <td>-31.912322</td>\n    </tr>\n    <tr>\n      <th>3</th>\n      <td>Rossmoyne Senior High School</td>\n      <td>2018</td>\n      <td>4</td>\n      <td>6148</td>\n      <td>100</td>\n      <td>2122</td>\n      <td>1121</td>\n      <td>115.870546</td>\n      <td>-32.046265</td>\n    </tr>\n    <tr>\n      <th>4</th>\n      <td>St Hilda's Anglican School for Girls</td>\n      <td>2018</td>\n      <td>5</td>\n      <td>6012</td>\n      <td>100</td>\n      <td>1121</td>\n      <td>1197</td>\n      <td>115.767812</td>\n      <td>-32.005047</td>\n    </tr>\n    <tr>\n      <th>...</th>\n      <td>...</td>\n      <td>...</td>\n      <td>...</td>\n      <td>...</td>\n      <td>...</td>\n      <td>...</td>\n      <td>...</td>\n      <td>...</td>\n      <td>...</td>\n    </tr>\n    <tr>\n      <th>88</th>\n      <td>Mandurah Baptist College</td>\n      <td>2018</td>\n      <td>89</td>\n      <td>6180</td>\n      <td>90</td>\n      <td>1174</td>\n      <td>1051</td>\n      <td>115.760118</td>\n      <td>-32.478307</td>\n    </tr>\n    <tr>\n      <th>89</th>\n      <td>Ashdale Secondary College</td>\n      <td>2018</td>\n      <td>90</td>\n      <td>6065</td>\n      <td>90</td>\n      <td>1597</td>\n      <td>1030</td>\n      <td>115.841495</td>\n      <td>-31.811623</td>\n    </tr>\n    <tr>\n      <th>90</th>\n      <td>St Mary Mackillop College</td>\n      <td>2018</td>\n      <td>91</td>\n      <td>6280</td>\n      <td>90</td>\n      <td>1326</td>\n      <td>1045</td>\n      <td>115.330251</td>\n      <td>-33.662607</td>\n    </tr>\n    <tr>\n      <th>91</th>\n      <td>John Wollaston Anglican Community School</td>\n      <td>2018</td>\n      <td>92</td>\n      <td>6111</td>\n      <td>90</td>\n      <td>897</td>\n      <td>1054</td>\n      <td>116.007834</td>\n      <td>-32.104726</td>\n    </tr>\n    <tr>\n      <th>92</th>\n      <td>Bunbury Catholic College</td>\n      <td>2018</td>\n      <td>93</td>\n      <td>6230</td>\n      <td>90</td>\n      <td>1415</td>\n      <td>1035</td>\n      <td>115.661424</td>\n      <td>-33.343422</td>\n    </tr>\n  </tbody>\n</table>\n<p>93 rows × 9 columns</p>\n</div>"
     },
     "metadata": {},
     "execution_count": 66
    }
   ],
   "source": [
    "# merge hs_wa_2018_merge with school_coord\n",
    "hs_wa_2018_coord = pd.merge(hs_wa_2018_merge, school_coord , on=['School'], how='left')\n",
    "hs_wa_2018_coord"
   ]
  },
  {
   "cell_type": "code",
   "execution_count": 67,
   "metadata": {},
   "outputs": [
    {
     "output_type": "execute_result",
     "data": {
      "text/plain": [
       "Empty DataFrame\n",
       "Columns: [School, Year, Rank, Postcode, State Overall Score, Total Enrolments, ICSEA, Longitude, Latitude]\n",
       "Index: []"
      ],
      "text/html": "<div>\n<style scoped>\n    .dataframe tbody tr th:only-of-type {\n        vertical-align: middle;\n    }\n\n    .dataframe tbody tr th {\n        vertical-align: top;\n    }\n\n    .dataframe thead th {\n        text-align: right;\n    }\n</style>\n<table border=\"1\" class=\"dataframe\">\n  <thead>\n    <tr style=\"text-align: right;\">\n      <th></th>\n      <th>School</th>\n      <th>Year</th>\n      <th>Rank</th>\n      <th>Postcode</th>\n      <th>State Overall Score</th>\n      <th>Total Enrolments</th>\n      <th>ICSEA</th>\n      <th>Longitude</th>\n      <th>Latitude</th>\n    </tr>\n  </thead>\n  <tbody>\n  </tbody>\n</table>\n</div>"
     },
     "metadata": {},
     "execution_count": 67
    }
   ],
   "source": [
    "# Check for NaN values\n",
    "# creating bool series True for NaN values  \n",
    "bool_series = pd.isnull(hs_wa_2018_coord[\"Longitude\"])  \n",
    "    \n",
    "# filtering data  \n",
    "# displaying data only with Gender = NaN  \n",
    "hs_wa_2018_coord[bool_series]"
   ]
  },
  {
   "cell_type": "code",
   "execution_count": 68,
   "metadata": {},
   "outputs": [
    {
     "output_type": "execute_result",
     "data": {
      "text/plain": [
       "                                      School  Year  Rank  Postcode  \\\n",
       "0                        Perth Modern School  2018     1      6008   \n",
       "1               Christ Church Grammar School  2018     2      6010   \n",
       "2                                Hale School  2018     3      6019   \n",
       "3               Rossmoyne Senior High School  2018     4      6148   \n",
       "4       St Hilda's Anglican School for Girls  2018     5      6012   \n",
       "..                                       ...   ...   ...       ...   \n",
       "88                  Mandurah Baptist College  2018    89      6180   \n",
       "89                 Ashdale Secondary College  2018    90      6065   \n",
       "90                 St Mary Mackillop College  2018    91      6280   \n",
       "91  John Wollaston Anglican Community School  2018    92      6111   \n",
       "92                  Bunbury Catholic College  2018    93      6230   \n",
       "\n",
       "    State Overall Score  Total Enrolments  ICSEA   Longitude   Latitude  \\\n",
       "0                   100              1411   1239  115.836396 -31.945066   \n",
       "1                   100              1644   1180  115.776987 -31.985461   \n",
       "2                   100              1504   1165  115.783783 -31.912322   \n",
       "3                   100              2122   1121  115.870546 -32.046265   \n",
       "4                   100              1121   1197  115.767812 -32.005047   \n",
       "..                  ...               ...    ...         ...        ...   \n",
       "88                   90              1174   1051  115.760118 -32.478307   \n",
       "89                   90              1597   1030  115.841495 -31.811623   \n",
       "90                   90              1326   1045  115.330251 -33.662607   \n",
       "91                   90               897   1054  116.007834 -32.104726   \n",
       "92                   90              1415   1035  115.661424 -33.343422   \n",
       "\n",
       "            Sector Gender  Religion  \n",
       "0       Government  Co-ed   Secular  \n",
       "1   Non-government   Boys  Anglican  \n",
       "2   Non-government   Boys  Anglican  \n",
       "3       Government  Co-ed   Secular  \n",
       "4   Non-government  Girls  Anglican  \n",
       "..             ...    ...       ...  \n",
       "88  Non-government  Co-ed   Baptist  \n",
       "89      Government  Co-ed   Secular  \n",
       "90  Non-government  Co-ed  Catholic  \n",
       "91  Non-government  Co-ed  Anglican  \n",
       "92  Non-government  Co-ed  Catholic  \n",
       "\n",
       "[93 rows x 12 columns]"
      ],
      "text/html": "<div>\n<style scoped>\n    .dataframe tbody tr th:only-of-type {\n        vertical-align: middle;\n    }\n\n    .dataframe tbody tr th {\n        vertical-align: top;\n    }\n\n    .dataframe thead th {\n        text-align: right;\n    }\n</style>\n<table border=\"1\" class=\"dataframe\">\n  <thead>\n    <tr style=\"text-align: right;\">\n      <th></th>\n      <th>School</th>\n      <th>Year</th>\n      <th>Rank</th>\n      <th>Postcode</th>\n      <th>State Overall Score</th>\n      <th>Total Enrolments</th>\n      <th>ICSEA</th>\n      <th>Longitude</th>\n      <th>Latitude</th>\n      <th>Sector</th>\n      <th>Gender</th>\n      <th>Religion</th>\n    </tr>\n  </thead>\n  <tbody>\n    <tr>\n      <th>0</th>\n      <td>Perth Modern School</td>\n      <td>2018</td>\n      <td>1</td>\n      <td>6008</td>\n      <td>100</td>\n      <td>1411</td>\n      <td>1239</td>\n      <td>115.836396</td>\n      <td>-31.945066</td>\n      <td>Government</td>\n      <td>Co-ed</td>\n      <td>Secular</td>\n    </tr>\n    <tr>\n      <th>1</th>\n      <td>Christ Church Grammar School</td>\n      <td>2018</td>\n      <td>2</td>\n      <td>6010</td>\n      <td>100</td>\n      <td>1644</td>\n      <td>1180</td>\n      <td>115.776987</td>\n      <td>-31.985461</td>\n      <td>Non-government</td>\n      <td>Boys</td>\n      <td>Anglican</td>\n    </tr>\n    <tr>\n      <th>2</th>\n      <td>Hale School</td>\n      <td>2018</td>\n      <td>3</td>\n      <td>6019</td>\n      <td>100</td>\n      <td>1504</td>\n      <td>1165</td>\n      <td>115.783783</td>\n      <td>-31.912322</td>\n      <td>Non-government</td>\n      <td>Boys</td>\n      <td>Anglican</td>\n    </tr>\n    <tr>\n      <th>3</th>\n      <td>Rossmoyne Senior High School</td>\n      <td>2018</td>\n      <td>4</td>\n      <td>6148</td>\n      <td>100</td>\n      <td>2122</td>\n      <td>1121</td>\n      <td>115.870546</td>\n      <td>-32.046265</td>\n      <td>Government</td>\n      <td>Co-ed</td>\n      <td>Secular</td>\n    </tr>\n    <tr>\n      <th>4</th>\n      <td>St Hilda's Anglican School for Girls</td>\n      <td>2018</td>\n      <td>5</td>\n      <td>6012</td>\n      <td>100</td>\n      <td>1121</td>\n      <td>1197</td>\n      <td>115.767812</td>\n      <td>-32.005047</td>\n      <td>Non-government</td>\n      <td>Girls</td>\n      <td>Anglican</td>\n    </tr>\n    <tr>\n      <th>...</th>\n      <td>...</td>\n      <td>...</td>\n      <td>...</td>\n      <td>...</td>\n      <td>...</td>\n      <td>...</td>\n      <td>...</td>\n      <td>...</td>\n      <td>...</td>\n      <td>...</td>\n      <td>...</td>\n      <td>...</td>\n    </tr>\n    <tr>\n      <th>88</th>\n      <td>Mandurah Baptist College</td>\n      <td>2018</td>\n      <td>89</td>\n      <td>6180</td>\n      <td>90</td>\n      <td>1174</td>\n      <td>1051</td>\n      <td>115.760118</td>\n      <td>-32.478307</td>\n      <td>Non-government</td>\n      <td>Co-ed</td>\n      <td>Baptist</td>\n    </tr>\n    <tr>\n      <th>89</th>\n      <td>Ashdale Secondary College</td>\n      <td>2018</td>\n      <td>90</td>\n      <td>6065</td>\n      <td>90</td>\n      <td>1597</td>\n      <td>1030</td>\n      <td>115.841495</td>\n      <td>-31.811623</td>\n      <td>Government</td>\n      <td>Co-ed</td>\n      <td>Secular</td>\n    </tr>\n    <tr>\n      <th>90</th>\n      <td>St Mary Mackillop College</td>\n      <td>2018</td>\n      <td>91</td>\n      <td>6280</td>\n      <td>90</td>\n      <td>1326</td>\n      <td>1045</td>\n      <td>115.330251</td>\n      <td>-33.662607</td>\n      <td>Non-government</td>\n      <td>Co-ed</td>\n      <td>Catholic</td>\n    </tr>\n    <tr>\n      <th>91</th>\n      <td>John Wollaston Anglican Community School</td>\n      <td>2018</td>\n      <td>92</td>\n      <td>6111</td>\n      <td>90</td>\n      <td>897</td>\n      <td>1054</td>\n      <td>116.007834</td>\n      <td>-32.104726</td>\n      <td>Non-government</td>\n      <td>Co-ed</td>\n      <td>Anglican</td>\n    </tr>\n    <tr>\n      <th>92</th>\n      <td>Bunbury Catholic College</td>\n      <td>2018</td>\n      <td>93</td>\n      <td>6230</td>\n      <td>90</td>\n      <td>1415</td>\n      <td>1035</td>\n      <td>115.661424</td>\n      <td>-33.343422</td>\n      <td>Non-government</td>\n      <td>Co-ed</td>\n      <td>Catholic</td>\n    </tr>\n  </tbody>\n</table>\n<p>93 rows × 12 columns</p>\n</div>"
     },
     "metadata": {},
     "execution_count": 68
    }
   ],
   "source": [
    "# merge hs_wa_2018_coord with sectors\n",
    "wa_hs_icsea_2018 = pd.merge(hs_wa_2018_coord, sectors , on=['School'], how='left')\n",
    "wa_hs_icsea_2018"
   ]
  },
  {
   "cell_type": "code",
   "execution_count": 69,
   "metadata": {},
   "outputs": [],
   "source": [
    "# save the wa_hs_icsea_2018 dataframe to a CSV file\n",
    "wa_hs_icsea_2018.to_csv(\"Resources/wa_hs_icsea_2018.csv\", index = False)"
   ]
  },
  {
   "cell_type": "code",
   "execution_count": 70,
   "metadata": {},
   "outputs": [
    {
     "output_type": "execute_result",
     "data": {
      "text/plain": [
       "                                       School  Year  Rank  Postcode  \\\n",
       "0                         Perth Modern School  2017     1      6008   \n",
       "1   International School of Western Australia  2017     2      6015   \n",
       "2                                 Hale School  2017     3      6019   \n",
       "3                   Methodist Ladies' College  2017     4      6010   \n",
       "4                Christ Church Grammar School  2017     5      6010   \n",
       "..                                        ...   ...   ...       ...   \n",
       "84            Bruce Rock District High School  2017    85      6418   \n",
       "85                  Ashdale Secondary College  2017    86      6065   \n",
       "86                  St Mary MacKillop College  2017    87      6280   \n",
       "87               Ellenbrook Christian College  2017    88      6069   \n",
       "88          Margaret River Senior High School  2017    89      6285   \n",
       "\n",
       "    State Overall Score  Total Enrolments  \n",
       "0                   100              1371  \n",
       "1                   100               270  \n",
       "2                   100              1489  \n",
       "3                   100              1151  \n",
       "4                   100              1651  \n",
       "..                  ...               ...  \n",
       "84                   90               142  \n",
       "85                   90              1536  \n",
       "86                   90              1252  \n",
       "87                   90               553  \n",
       "88                   90               991  \n",
       "\n",
       "[89 rows x 6 columns]"
      ],
      "text/html": "<div>\n<style scoped>\n    .dataframe tbody tr th:only-of-type {\n        vertical-align: middle;\n    }\n\n    .dataframe tbody tr th {\n        vertical-align: top;\n    }\n\n    .dataframe thead th {\n        text-align: right;\n    }\n</style>\n<table border=\"1\" class=\"dataframe\">\n  <thead>\n    <tr style=\"text-align: right;\">\n      <th></th>\n      <th>School</th>\n      <th>Year</th>\n      <th>Rank</th>\n      <th>Postcode</th>\n      <th>State Overall Score</th>\n      <th>Total Enrolments</th>\n    </tr>\n  </thead>\n  <tbody>\n    <tr>\n      <th>0</th>\n      <td>Perth Modern School</td>\n      <td>2017</td>\n      <td>1</td>\n      <td>6008</td>\n      <td>100</td>\n      <td>1371</td>\n    </tr>\n    <tr>\n      <th>1</th>\n      <td>International School of Western Australia</td>\n      <td>2017</td>\n      <td>2</td>\n      <td>6015</td>\n      <td>100</td>\n      <td>270</td>\n    </tr>\n    <tr>\n      <th>2</th>\n      <td>Hale School</td>\n      <td>2017</td>\n      <td>3</td>\n      <td>6019</td>\n      <td>100</td>\n      <td>1489</td>\n    </tr>\n    <tr>\n      <th>3</th>\n      <td>Methodist Ladies' College</td>\n      <td>2017</td>\n      <td>4</td>\n      <td>6010</td>\n      <td>100</td>\n      <td>1151</td>\n    </tr>\n    <tr>\n      <th>4</th>\n      <td>Christ Church Grammar School</td>\n      <td>2017</td>\n      <td>5</td>\n      <td>6010</td>\n      <td>100</td>\n      <td>1651</td>\n    </tr>\n    <tr>\n      <th>...</th>\n      <td>...</td>\n      <td>...</td>\n      <td>...</td>\n      <td>...</td>\n      <td>...</td>\n      <td>...</td>\n    </tr>\n    <tr>\n      <th>84</th>\n      <td>Bruce Rock District High School</td>\n      <td>2017</td>\n      <td>85</td>\n      <td>6418</td>\n      <td>90</td>\n      <td>142</td>\n    </tr>\n    <tr>\n      <th>85</th>\n      <td>Ashdale Secondary College</td>\n      <td>2017</td>\n      <td>86</td>\n      <td>6065</td>\n      <td>90</td>\n      <td>1536</td>\n    </tr>\n    <tr>\n      <th>86</th>\n      <td>St Mary MacKillop College</td>\n      <td>2017</td>\n      <td>87</td>\n      <td>6280</td>\n      <td>90</td>\n      <td>1252</td>\n    </tr>\n    <tr>\n      <th>87</th>\n      <td>Ellenbrook Christian College</td>\n      <td>2017</td>\n      <td>88</td>\n      <td>6069</td>\n      <td>90</td>\n      <td>553</td>\n    </tr>\n    <tr>\n      <th>88</th>\n      <td>Margaret River Senior High School</td>\n      <td>2017</td>\n      <td>89</td>\n      <td>6285</td>\n      <td>90</td>\n      <td>991</td>\n    </tr>\n  </tbody>\n</table>\n<p>89 rows × 6 columns</p>\n</div>"
     },
     "metadata": {},
     "execution_count": 70
    }
   ],
   "source": [
    "# get the 2017 url WA school ranking\n",
    "rank_2017 = \"https://bettereducation.com.au/school/secondary/wa/wa_top_secondary_schools.aspx?yr=2017\"\n",
    "\n",
    "# Use panda's `read_html` to parse the s1 url\n",
    "hs_wa_2017 = pd.read_html(rank_2017, header=0)[0]\n",
    "\n",
    "# insert a column 'year' with values of '2017'\n",
    "hs_wa_2017.insert(1, 'Year', 2017)\n",
    "\n",
    "# insert a column 'Rank' with values of incremental values'\n",
    "hs_wa_2017.insert(2, 'Rank', range(1, 1 + len(hs_wa_2017)))\n",
    "\n",
    "# replace some values to correct the spelling\n",
    "hs_wa_2017[\"School\"].replace({\"Australian Islamic College,Dianella,WA,6059\": \"Australian Islamic College - Dianella\"}, inplace=True)\n",
    "\n",
    "# Remove other strings after a comma to show only the school name\n",
    "hs_wa_2017[\"School\"] = hs_wa_2017[\"School\"].str.split(',', 1).str.get(0)\n",
    "\n",
    "# Remove the space and parenthesis strings to show only the school name\n",
    "hs_wa_2017[\"School\"] = hs_wa_2017[\"School\"].str.split('\\s+\\(', 1).str.get(0)\n",
    "\n",
    "# remove other columns\n",
    "hs_wa_2017 = hs_wa_2017[['School', 'Year', 'Rank', 'Postcode','State Overall Score', 'Total Enrolments']]\n",
    "hs_wa_2017"
   ]
  },
  {
   "cell_type": "code",
   "execution_count": 71,
   "metadata": {},
   "outputs": [],
   "source": [
    "# replace some values to correct the spelling\n",
    "hs_wa_2017[\"School\"].replace({\"John Curtin College Of The Arts\": \"John Curtin College of the Arts\", \n",
    "                       \"Australian Christian College\": \"Australian Christian College - Southlands\",\n",
    "                       \"St Stephen's School\": \"St Stephen's School - Duncraig\",\n",
    "                       \"Schools Of Isolated & Distance Education\": \"School of Isolated and Distance Education\",\n",
    "                       \"St Mary MacKillop College\": \"St Mary Mackillop College\"\n",
    "                        }, inplace=True)"
   ]
  },
  {
   "cell_type": "code",
   "execution_count": 72,
   "metadata": {},
   "outputs": [
    {
     "output_type": "execute_result",
     "data": {
      "text/plain": [
       "                                       School  Year  Rank  Postcode  \\\n",
       "0                         Perth Modern School  2017     1      6008   \n",
       "1   International School of Western Australia  2017     2      6015   \n",
       "2                                 Hale School  2017     3      6019   \n",
       "3                   Methodist Ladies' College  2017     4      6010   \n",
       "4                Christ Church Grammar School  2017     5      6010   \n",
       "..                                        ...   ...   ...       ...   \n",
       "84            Bruce Rock District High School  2017    85      6418   \n",
       "85                  Ashdale Secondary College  2017    86      6065   \n",
       "86                  St Mary Mackillop College  2017    87      6280   \n",
       "87               Ellenbrook Christian College  2017    88      6069   \n",
       "88          Margaret River Senior High School  2017    89      6285   \n",
       "\n",
       "    State Overall Score  Total Enrolments  ICSEA  \n",
       "0                   100              1371   1239  \n",
       "1                   100               270   1182  \n",
       "2                   100              1489   1165  \n",
       "3                   100              1151   1150  \n",
       "4                   100              1651   1180  \n",
       "..                  ...               ...    ...  \n",
       "84                   90               142    952  \n",
       "85                   90              1536   1030  \n",
       "86                   90              1252   1045  \n",
       "87                   90               553   1043  \n",
       "88                   90               991   1037  \n",
       "\n",
       "[89 rows x 7 columns]"
      ],
      "text/html": "<div>\n<style scoped>\n    .dataframe tbody tr th:only-of-type {\n        vertical-align: middle;\n    }\n\n    .dataframe tbody tr th {\n        vertical-align: top;\n    }\n\n    .dataframe thead th {\n        text-align: right;\n    }\n</style>\n<table border=\"1\" class=\"dataframe\">\n  <thead>\n    <tr style=\"text-align: right;\">\n      <th></th>\n      <th>School</th>\n      <th>Year</th>\n      <th>Rank</th>\n      <th>Postcode</th>\n      <th>State Overall Score</th>\n      <th>Total Enrolments</th>\n      <th>ICSEA</th>\n    </tr>\n  </thead>\n  <tbody>\n    <tr>\n      <th>0</th>\n      <td>Perth Modern School</td>\n      <td>2017</td>\n      <td>1</td>\n      <td>6008</td>\n      <td>100</td>\n      <td>1371</td>\n      <td>1239</td>\n    </tr>\n    <tr>\n      <th>1</th>\n      <td>International School of Western Australia</td>\n      <td>2017</td>\n      <td>2</td>\n      <td>6015</td>\n      <td>100</td>\n      <td>270</td>\n      <td>1182</td>\n    </tr>\n    <tr>\n      <th>2</th>\n      <td>Hale School</td>\n      <td>2017</td>\n      <td>3</td>\n      <td>6019</td>\n      <td>100</td>\n      <td>1489</td>\n      <td>1165</td>\n    </tr>\n    <tr>\n      <th>3</th>\n      <td>Methodist Ladies' College</td>\n      <td>2017</td>\n      <td>4</td>\n      <td>6010</td>\n      <td>100</td>\n      <td>1151</td>\n      <td>1150</td>\n    </tr>\n    <tr>\n      <th>4</th>\n      <td>Christ Church Grammar School</td>\n      <td>2017</td>\n      <td>5</td>\n      <td>6010</td>\n      <td>100</td>\n      <td>1651</td>\n      <td>1180</td>\n    </tr>\n    <tr>\n      <th>...</th>\n      <td>...</td>\n      <td>...</td>\n      <td>...</td>\n      <td>...</td>\n      <td>...</td>\n      <td>...</td>\n      <td>...</td>\n    </tr>\n    <tr>\n      <th>84</th>\n      <td>Bruce Rock District High School</td>\n      <td>2017</td>\n      <td>85</td>\n      <td>6418</td>\n      <td>90</td>\n      <td>142</td>\n      <td>952</td>\n    </tr>\n    <tr>\n      <th>85</th>\n      <td>Ashdale Secondary College</td>\n      <td>2017</td>\n      <td>86</td>\n      <td>6065</td>\n      <td>90</td>\n      <td>1536</td>\n      <td>1030</td>\n    </tr>\n    <tr>\n      <th>86</th>\n      <td>St Mary Mackillop College</td>\n      <td>2017</td>\n      <td>87</td>\n      <td>6280</td>\n      <td>90</td>\n      <td>1252</td>\n      <td>1045</td>\n    </tr>\n    <tr>\n      <th>87</th>\n      <td>Ellenbrook Christian College</td>\n      <td>2017</td>\n      <td>88</td>\n      <td>6069</td>\n      <td>90</td>\n      <td>553</td>\n      <td>1043</td>\n    </tr>\n    <tr>\n      <th>88</th>\n      <td>Margaret River Senior High School</td>\n      <td>2017</td>\n      <td>89</td>\n      <td>6285</td>\n      <td>90</td>\n      <td>991</td>\n      <td>1037</td>\n    </tr>\n  </tbody>\n</table>\n<p>89 rows × 7 columns</p>\n</div>"
     },
     "metadata": {},
     "execution_count": 72
    }
   ],
   "source": [
    "# merge hs_wa_2017 with icsea_full\n",
    "hs_wa_2017_merge = pd.merge(hs_wa_2017, icsea_full , on=['School'], how='left')\n",
    "hs_wa_2017_merge"
   ]
  },
  {
   "cell_type": "code",
   "execution_count": 73,
   "metadata": {},
   "outputs": [
    {
     "output_type": "execute_result",
     "data": {
      "text/plain": [
       "Empty DataFrame\n",
       "Columns: [School, Year, Rank, Postcode, State Overall Score, Total Enrolments, ICSEA]\n",
       "Index: []"
      ],
      "text/html": "<div>\n<style scoped>\n    .dataframe tbody tr th:only-of-type {\n        vertical-align: middle;\n    }\n\n    .dataframe tbody tr th {\n        vertical-align: top;\n    }\n\n    .dataframe thead th {\n        text-align: right;\n    }\n</style>\n<table border=\"1\" class=\"dataframe\">\n  <thead>\n    <tr style=\"text-align: right;\">\n      <th></th>\n      <th>School</th>\n      <th>Year</th>\n      <th>Rank</th>\n      <th>Postcode</th>\n      <th>State Overall Score</th>\n      <th>Total Enrolments</th>\n      <th>ICSEA</th>\n    </tr>\n  </thead>\n  <tbody>\n  </tbody>\n</table>\n</div>"
     },
     "metadata": {},
     "execution_count": 73
    }
   ],
   "source": [
    "# Check for NaN values\n",
    "# creating bool series True for NaN values  \n",
    "bool_series = pd.isnull(hs_wa_2017_merge[\"ICSEA\"])  \n",
    "    \n",
    "# filtering data  \n",
    "# displaying data only with Gender = NaN  \n",
    "hs_wa_2017_merge[bool_series]"
   ]
  },
  {
   "cell_type": "code",
   "execution_count": 74,
   "metadata": {},
   "outputs": [
    {
     "output_type": "execute_result",
     "data": {
      "text/plain": [
       "                                       School  Year  Rank  Postcode  \\\n",
       "0                         Perth Modern School  2017     1      6008   \n",
       "1   International School of Western Australia  2017     2      6015   \n",
       "2                                 Hale School  2017     3      6019   \n",
       "3                   Methodist Ladies' College  2017     4      6010   \n",
       "4                Christ Church Grammar School  2017     5      6010   \n",
       "..                                        ...   ...   ...       ...   \n",
       "84            Bruce Rock District High School  2017    85      6418   \n",
       "85                  Ashdale Secondary College  2017    86      6065   \n",
       "86                  St Mary Mackillop College  2017    87      6280   \n",
       "87               Ellenbrook Christian College  2017    88      6069   \n",
       "88          Margaret River Senior High School  2017    89      6285   \n",
       "\n",
       "    State Overall Score  Total Enrolments  ICSEA   Longitude   Latitude  \n",
       "0                   100              1371   1239  115.836396 -31.945066  \n",
       "1                   100               270   1182  115.777620 -31.898500  \n",
       "2                   100              1489   1165  115.783783 -31.912322  \n",
       "3                   100              1151   1150  115.775540 -31.987012  \n",
       "4                   100              1651   1180  115.776987 -31.985461  \n",
       "..                  ...               ...    ...         ...        ...  \n",
       "84                   90               142    952  118.147663 -31.873635  \n",
       "85                   90              1536   1030  115.841495 -31.811623  \n",
       "86                   90              1252   1045  115.330251 -33.662607  \n",
       "87                   90               553   1043  115.959178 -31.786783  \n",
       "88                   90               991   1037  115.074671 -33.954318  \n",
       "\n",
       "[89 rows x 9 columns]"
      ],
      "text/html": "<div>\n<style scoped>\n    .dataframe tbody tr th:only-of-type {\n        vertical-align: middle;\n    }\n\n    .dataframe tbody tr th {\n        vertical-align: top;\n    }\n\n    .dataframe thead th {\n        text-align: right;\n    }\n</style>\n<table border=\"1\" class=\"dataframe\">\n  <thead>\n    <tr style=\"text-align: right;\">\n      <th></th>\n      <th>School</th>\n      <th>Year</th>\n      <th>Rank</th>\n      <th>Postcode</th>\n      <th>State Overall Score</th>\n      <th>Total Enrolments</th>\n      <th>ICSEA</th>\n      <th>Longitude</th>\n      <th>Latitude</th>\n    </tr>\n  </thead>\n  <tbody>\n    <tr>\n      <th>0</th>\n      <td>Perth Modern School</td>\n      <td>2017</td>\n      <td>1</td>\n      <td>6008</td>\n      <td>100</td>\n      <td>1371</td>\n      <td>1239</td>\n      <td>115.836396</td>\n      <td>-31.945066</td>\n    </tr>\n    <tr>\n      <th>1</th>\n      <td>International School of Western Australia</td>\n      <td>2017</td>\n      <td>2</td>\n      <td>6015</td>\n      <td>100</td>\n      <td>270</td>\n      <td>1182</td>\n      <td>115.777620</td>\n      <td>-31.898500</td>\n    </tr>\n    <tr>\n      <th>2</th>\n      <td>Hale School</td>\n      <td>2017</td>\n      <td>3</td>\n      <td>6019</td>\n      <td>100</td>\n      <td>1489</td>\n      <td>1165</td>\n      <td>115.783783</td>\n      <td>-31.912322</td>\n    </tr>\n    <tr>\n      <th>3</th>\n      <td>Methodist Ladies' College</td>\n      <td>2017</td>\n      <td>4</td>\n      <td>6010</td>\n      <td>100</td>\n      <td>1151</td>\n      <td>1150</td>\n      <td>115.775540</td>\n      <td>-31.987012</td>\n    </tr>\n    <tr>\n      <th>4</th>\n      <td>Christ Church Grammar School</td>\n      <td>2017</td>\n      <td>5</td>\n      <td>6010</td>\n      <td>100</td>\n      <td>1651</td>\n      <td>1180</td>\n      <td>115.776987</td>\n      <td>-31.985461</td>\n    </tr>\n    <tr>\n      <th>...</th>\n      <td>...</td>\n      <td>...</td>\n      <td>...</td>\n      <td>...</td>\n      <td>...</td>\n      <td>...</td>\n      <td>...</td>\n      <td>...</td>\n      <td>...</td>\n    </tr>\n    <tr>\n      <th>84</th>\n      <td>Bruce Rock District High School</td>\n      <td>2017</td>\n      <td>85</td>\n      <td>6418</td>\n      <td>90</td>\n      <td>142</td>\n      <td>952</td>\n      <td>118.147663</td>\n      <td>-31.873635</td>\n    </tr>\n    <tr>\n      <th>85</th>\n      <td>Ashdale Secondary College</td>\n      <td>2017</td>\n      <td>86</td>\n      <td>6065</td>\n      <td>90</td>\n      <td>1536</td>\n      <td>1030</td>\n      <td>115.841495</td>\n      <td>-31.811623</td>\n    </tr>\n    <tr>\n      <th>86</th>\n      <td>St Mary Mackillop College</td>\n      <td>2017</td>\n      <td>87</td>\n      <td>6280</td>\n      <td>90</td>\n      <td>1252</td>\n      <td>1045</td>\n      <td>115.330251</td>\n      <td>-33.662607</td>\n    </tr>\n    <tr>\n      <th>87</th>\n      <td>Ellenbrook Christian College</td>\n      <td>2017</td>\n      <td>88</td>\n      <td>6069</td>\n      <td>90</td>\n      <td>553</td>\n      <td>1043</td>\n      <td>115.959178</td>\n      <td>-31.786783</td>\n    </tr>\n    <tr>\n      <th>88</th>\n      <td>Margaret River Senior High School</td>\n      <td>2017</td>\n      <td>89</td>\n      <td>6285</td>\n      <td>90</td>\n      <td>991</td>\n      <td>1037</td>\n      <td>115.074671</td>\n      <td>-33.954318</td>\n    </tr>\n  </tbody>\n</table>\n<p>89 rows × 9 columns</p>\n</div>"
     },
     "metadata": {},
     "execution_count": 74
    }
   ],
   "source": [
    "# merge hs_wa_2017_merge with school_coord\n",
    "hs_wa_2017_coord = pd.merge(hs_wa_2017_merge, school_coord , on=['School'], how='left')\n",
    "hs_wa_2017_coord"
   ]
  },
  {
   "cell_type": "code",
   "execution_count": 75,
   "metadata": {},
   "outputs": [
    {
     "output_type": "execute_result",
     "data": {
      "text/plain": [
       "Empty DataFrame\n",
       "Columns: [School, Year, Rank, Postcode, State Overall Score, Total Enrolments, ICSEA, Longitude, Latitude]\n",
       "Index: []"
      ],
      "text/html": "<div>\n<style scoped>\n    .dataframe tbody tr th:only-of-type {\n        vertical-align: middle;\n    }\n\n    .dataframe tbody tr th {\n        vertical-align: top;\n    }\n\n    .dataframe thead th {\n        text-align: right;\n    }\n</style>\n<table border=\"1\" class=\"dataframe\">\n  <thead>\n    <tr style=\"text-align: right;\">\n      <th></th>\n      <th>School</th>\n      <th>Year</th>\n      <th>Rank</th>\n      <th>Postcode</th>\n      <th>State Overall Score</th>\n      <th>Total Enrolments</th>\n      <th>ICSEA</th>\n      <th>Longitude</th>\n      <th>Latitude</th>\n    </tr>\n  </thead>\n  <tbody>\n  </tbody>\n</table>\n</div>"
     },
     "metadata": {},
     "execution_count": 75
    }
   ],
   "source": [
    "# Check for NaN values\n",
    "# creating bool series True for NaN values  \n",
    "bool_series = pd.isnull(hs_wa_2017_coord[\"Longitude\"])  \n",
    "    \n",
    "# filtering data  \n",
    "# displaying data only with Gender = NaN  \n",
    "hs_wa_2017_coord[bool_series]"
   ]
  },
  {
   "cell_type": "code",
   "execution_count": 76,
   "metadata": {},
   "outputs": [
    {
     "output_type": "execute_result",
     "data": {
      "text/plain": [
       "                                       School  Year  Rank  Postcode  \\\n",
       "0                         Perth Modern School  2017     1      6008   \n",
       "1   International School of Western Australia  2017     2      6015   \n",
       "2                                 Hale School  2017     3      6019   \n",
       "3                   Methodist Ladies' College  2017     4      6010   \n",
       "4                Christ Church Grammar School  2017     5      6010   \n",
       "..                                        ...   ...   ...       ...   \n",
       "84            Bruce Rock District High School  2017    85      6418   \n",
       "85                  Ashdale Secondary College  2017    86      6065   \n",
       "86                  St Mary Mackillop College  2017    87      6280   \n",
       "87               Ellenbrook Christian College  2017    88      6069   \n",
       "88          Margaret River Senior High School  2017    89      6285   \n",
       "\n",
       "    State Overall Score  Total Enrolments  ICSEA   Longitude   Latitude  \\\n",
       "0                   100              1371   1239  115.836396 -31.945066   \n",
       "1                   100               270   1182  115.777620 -31.898500   \n",
       "2                   100              1489   1165  115.783783 -31.912322   \n",
       "3                   100              1151   1150  115.775540 -31.987012   \n",
       "4                   100              1651   1180  115.776987 -31.985461   \n",
       "..                  ...               ...    ...         ...        ...   \n",
       "84                   90               142    952  118.147663 -31.873635   \n",
       "85                   90              1536   1030  115.841495 -31.811623   \n",
       "86                   90              1252   1045  115.330251 -33.662607   \n",
       "87                   90               553   1043  115.959178 -31.786783   \n",
       "88                   90               991   1037  115.074671 -33.954318   \n",
       "\n",
       "            Sector Gender   Religion  \n",
       "0       Government  Co-ed    Secular  \n",
       "1       Government  Co-ed    Secular  \n",
       "2   Non-government   Boys   Anglican  \n",
       "3   Non-government  Girls  Methodist  \n",
       "4   Non-government   Boys   Anglican  \n",
       "..             ...    ...        ...  \n",
       "84      Government  Co-ed    Secular  \n",
       "85      Government  Co-ed    Secular  \n",
       "86  Non-government  Co-ed   Catholic  \n",
       "87  Non-government  Co-ed  Christian  \n",
       "88      Government  Co-ed    Secular  \n",
       "\n",
       "[89 rows x 12 columns]"
      ],
      "text/html": "<div>\n<style scoped>\n    .dataframe tbody tr th:only-of-type {\n        vertical-align: middle;\n    }\n\n    .dataframe tbody tr th {\n        vertical-align: top;\n    }\n\n    .dataframe thead th {\n        text-align: right;\n    }\n</style>\n<table border=\"1\" class=\"dataframe\">\n  <thead>\n    <tr style=\"text-align: right;\">\n      <th></th>\n      <th>School</th>\n      <th>Year</th>\n      <th>Rank</th>\n      <th>Postcode</th>\n      <th>State Overall Score</th>\n      <th>Total Enrolments</th>\n      <th>ICSEA</th>\n      <th>Longitude</th>\n      <th>Latitude</th>\n      <th>Sector</th>\n      <th>Gender</th>\n      <th>Religion</th>\n    </tr>\n  </thead>\n  <tbody>\n    <tr>\n      <th>0</th>\n      <td>Perth Modern School</td>\n      <td>2017</td>\n      <td>1</td>\n      <td>6008</td>\n      <td>100</td>\n      <td>1371</td>\n      <td>1239</td>\n      <td>115.836396</td>\n      <td>-31.945066</td>\n      <td>Government</td>\n      <td>Co-ed</td>\n      <td>Secular</td>\n    </tr>\n    <tr>\n      <th>1</th>\n      <td>International School of Western Australia</td>\n      <td>2017</td>\n      <td>2</td>\n      <td>6015</td>\n      <td>100</td>\n      <td>270</td>\n      <td>1182</td>\n      <td>115.777620</td>\n      <td>-31.898500</td>\n      <td>Government</td>\n      <td>Co-ed</td>\n      <td>Secular</td>\n    </tr>\n    <tr>\n      <th>2</th>\n      <td>Hale School</td>\n      <td>2017</td>\n      <td>3</td>\n      <td>6019</td>\n      <td>100</td>\n      <td>1489</td>\n      <td>1165</td>\n      <td>115.783783</td>\n      <td>-31.912322</td>\n      <td>Non-government</td>\n      <td>Boys</td>\n      <td>Anglican</td>\n    </tr>\n    <tr>\n      <th>3</th>\n      <td>Methodist Ladies' College</td>\n      <td>2017</td>\n      <td>4</td>\n      <td>6010</td>\n      <td>100</td>\n      <td>1151</td>\n      <td>1150</td>\n      <td>115.775540</td>\n      <td>-31.987012</td>\n      <td>Non-government</td>\n      <td>Girls</td>\n      <td>Methodist</td>\n    </tr>\n    <tr>\n      <th>4</th>\n      <td>Christ Church Grammar School</td>\n      <td>2017</td>\n      <td>5</td>\n      <td>6010</td>\n      <td>100</td>\n      <td>1651</td>\n      <td>1180</td>\n      <td>115.776987</td>\n      <td>-31.985461</td>\n      <td>Non-government</td>\n      <td>Boys</td>\n      <td>Anglican</td>\n    </tr>\n    <tr>\n      <th>...</th>\n      <td>...</td>\n      <td>...</td>\n      <td>...</td>\n      <td>...</td>\n      <td>...</td>\n      <td>...</td>\n      <td>...</td>\n      <td>...</td>\n      <td>...</td>\n      <td>...</td>\n      <td>...</td>\n      <td>...</td>\n    </tr>\n    <tr>\n      <th>84</th>\n      <td>Bruce Rock District High School</td>\n      <td>2017</td>\n      <td>85</td>\n      <td>6418</td>\n      <td>90</td>\n      <td>142</td>\n      <td>952</td>\n      <td>118.147663</td>\n      <td>-31.873635</td>\n      <td>Government</td>\n      <td>Co-ed</td>\n      <td>Secular</td>\n    </tr>\n    <tr>\n      <th>85</th>\n      <td>Ashdale Secondary College</td>\n      <td>2017</td>\n      <td>86</td>\n      <td>6065</td>\n      <td>90</td>\n      <td>1536</td>\n      <td>1030</td>\n      <td>115.841495</td>\n      <td>-31.811623</td>\n      <td>Government</td>\n      <td>Co-ed</td>\n      <td>Secular</td>\n    </tr>\n    <tr>\n      <th>86</th>\n      <td>St Mary Mackillop College</td>\n      <td>2017</td>\n      <td>87</td>\n      <td>6280</td>\n      <td>90</td>\n      <td>1252</td>\n      <td>1045</td>\n      <td>115.330251</td>\n      <td>-33.662607</td>\n      <td>Non-government</td>\n      <td>Co-ed</td>\n      <td>Catholic</td>\n    </tr>\n    <tr>\n      <th>87</th>\n      <td>Ellenbrook Christian College</td>\n      <td>2017</td>\n      <td>88</td>\n      <td>6069</td>\n      <td>90</td>\n      <td>553</td>\n      <td>1043</td>\n      <td>115.959178</td>\n      <td>-31.786783</td>\n      <td>Non-government</td>\n      <td>Co-ed</td>\n      <td>Christian</td>\n    </tr>\n    <tr>\n      <th>88</th>\n      <td>Margaret River Senior High School</td>\n      <td>2017</td>\n      <td>89</td>\n      <td>6285</td>\n      <td>90</td>\n      <td>991</td>\n      <td>1037</td>\n      <td>115.074671</td>\n      <td>-33.954318</td>\n      <td>Government</td>\n      <td>Co-ed</td>\n      <td>Secular</td>\n    </tr>\n  </tbody>\n</table>\n<p>89 rows × 12 columns</p>\n</div>"
     },
     "metadata": {},
     "execution_count": 76
    }
   ],
   "source": [
    "# merge hs_wa_2017_coord with sectors\n",
    "wa_hs_icsea_2017 = pd.merge(hs_wa_2017_coord, sectors , on=['School'], how='left')\n",
    "wa_hs_icsea_2017"
   ]
  },
  {
   "cell_type": "code",
   "execution_count": 77,
   "metadata": {},
   "outputs": [
    {
     "output_type": "execute_result",
     "data": {
      "text/plain": [
       "Empty DataFrame\n",
       "Columns: [School, Year, Rank, Postcode, State Overall Score, Total Enrolments, ICSEA, Longitude, Latitude, Sector, Gender, Religion]\n",
       "Index: []"
      ],
      "text/html": "<div>\n<style scoped>\n    .dataframe tbody tr th:only-of-type {\n        vertical-align: middle;\n    }\n\n    .dataframe tbody tr th {\n        vertical-align: top;\n    }\n\n    .dataframe thead th {\n        text-align: right;\n    }\n</style>\n<table border=\"1\" class=\"dataframe\">\n  <thead>\n    <tr style=\"text-align: right;\">\n      <th></th>\n      <th>School</th>\n      <th>Year</th>\n      <th>Rank</th>\n      <th>Postcode</th>\n      <th>State Overall Score</th>\n      <th>Total Enrolments</th>\n      <th>ICSEA</th>\n      <th>Longitude</th>\n      <th>Latitude</th>\n      <th>Sector</th>\n      <th>Gender</th>\n      <th>Religion</th>\n    </tr>\n  </thead>\n  <tbody>\n  </tbody>\n</table>\n</div>"
     },
     "metadata": {},
     "execution_count": 77
    }
   ],
   "source": [
    "# Check for NaN values\n",
    "# creating bool series True for NaN values  \n",
    "bool_series = pd.isnull(wa_hs_icsea_2017[\"Sector\"])  \n",
    "    \n",
    "# filtering data  \n",
    "# displaying data only with Gender = NaN  \n",
    "wa_hs_icsea_2017[bool_series]"
   ]
  },
  {
   "cell_type": "code",
   "execution_count": 78,
   "metadata": {},
   "outputs": [],
   "source": [
    "# save the wa_hs_icsea_2017 dataframe to a CSV file\n",
    "wa_hs_icsea_2017.to_csv(\"Resources/wa_hs_icsea_2017.csv\", index = False)"
   ]
  },
  {
   "cell_type": "code",
   "execution_count": 79,
   "metadata": {},
   "outputs": [
    {
     "output_type": "execute_result",
     "data": {
      "text/plain": [
       "                                       School  Year  Rank  Postcode  \\\n",
       "0                         Perth Modern School  2016     1      6008   \n",
       "1                Christ Church Grammar School  2016     2      6010   \n",
       "2   International School of Western Australia  2016     3      6015   \n",
       "3                                 Hale School  2016     4      6019   \n",
       "4            St Mary's Anglican Girls' School  2016     5      6018   \n",
       "..                                        ...   ...   ...       ...   \n",
       "67                   Bunbury Catholic College  2016    68      6230   \n",
       "68                         St Norbert College  2016    69      6107   \n",
       "69              Kalbarri District High School  2016    70      6536   \n",
       "70                             Tranby College  2016    71      6171   \n",
       "71                 Denmark Senior High School  2016    72      6333   \n",
       "\n",
       "    State Overall Score  Total Enrolments  \n",
       "0                   100              1336  \n",
       "1                   100              1663  \n",
       "2                   100               235  \n",
       "3                   100              1486  \n",
       "4                    99              1385  \n",
       "..                  ...               ...  \n",
       "67                   91              1370  \n",
       "68                   90               890  \n",
       "69                   90               220  \n",
       "70                   90               884  \n",
       "71                   90               401  \n",
       "\n",
       "[72 rows x 6 columns]"
      ],
      "text/html": "<div>\n<style scoped>\n    .dataframe tbody tr th:only-of-type {\n        vertical-align: middle;\n    }\n\n    .dataframe tbody tr th {\n        vertical-align: top;\n    }\n\n    .dataframe thead th {\n        text-align: right;\n    }\n</style>\n<table border=\"1\" class=\"dataframe\">\n  <thead>\n    <tr style=\"text-align: right;\">\n      <th></th>\n      <th>School</th>\n      <th>Year</th>\n      <th>Rank</th>\n      <th>Postcode</th>\n      <th>State Overall Score</th>\n      <th>Total Enrolments</th>\n    </tr>\n  </thead>\n  <tbody>\n    <tr>\n      <th>0</th>\n      <td>Perth Modern School</td>\n      <td>2016</td>\n      <td>1</td>\n      <td>6008</td>\n      <td>100</td>\n      <td>1336</td>\n    </tr>\n    <tr>\n      <th>1</th>\n      <td>Christ Church Grammar School</td>\n      <td>2016</td>\n      <td>2</td>\n      <td>6010</td>\n      <td>100</td>\n      <td>1663</td>\n    </tr>\n    <tr>\n      <th>2</th>\n      <td>International School of Western Australia</td>\n      <td>2016</td>\n      <td>3</td>\n      <td>6015</td>\n      <td>100</td>\n      <td>235</td>\n    </tr>\n    <tr>\n      <th>3</th>\n      <td>Hale School</td>\n      <td>2016</td>\n      <td>4</td>\n      <td>6019</td>\n      <td>100</td>\n      <td>1486</td>\n    </tr>\n    <tr>\n      <th>4</th>\n      <td>St Mary's Anglican Girls' School</td>\n      <td>2016</td>\n      <td>5</td>\n      <td>6018</td>\n      <td>99</td>\n      <td>1385</td>\n    </tr>\n    <tr>\n      <th>...</th>\n      <td>...</td>\n      <td>...</td>\n      <td>...</td>\n      <td>...</td>\n      <td>...</td>\n      <td>...</td>\n    </tr>\n    <tr>\n      <th>67</th>\n      <td>Bunbury Catholic College</td>\n      <td>2016</td>\n      <td>68</td>\n      <td>6230</td>\n      <td>91</td>\n      <td>1370</td>\n    </tr>\n    <tr>\n      <th>68</th>\n      <td>St Norbert College</td>\n      <td>2016</td>\n      <td>69</td>\n      <td>6107</td>\n      <td>90</td>\n      <td>890</td>\n    </tr>\n    <tr>\n      <th>69</th>\n      <td>Kalbarri District High School</td>\n      <td>2016</td>\n      <td>70</td>\n      <td>6536</td>\n      <td>90</td>\n      <td>220</td>\n    </tr>\n    <tr>\n      <th>70</th>\n      <td>Tranby College</td>\n      <td>2016</td>\n      <td>71</td>\n      <td>6171</td>\n      <td>90</td>\n      <td>884</td>\n    </tr>\n    <tr>\n      <th>71</th>\n      <td>Denmark Senior High School</td>\n      <td>2016</td>\n      <td>72</td>\n      <td>6333</td>\n      <td>90</td>\n      <td>401</td>\n    </tr>\n  </tbody>\n</table>\n<p>72 rows × 6 columns</p>\n</div>"
     },
     "metadata": {},
     "execution_count": 79
    }
   ],
   "source": [
    "# get the 2016 url WA school ranking\n",
    "rank_2016 = \"https://bettereducation.com.au/school/secondary/wa/wa_top_secondary_schools.aspx?yr=2016\"\n",
    "\n",
    "# Use panda's `read_html` to parse the s1 url\n",
    "hs_wa_2016 = pd.read_html(rank_2016, header=0)[0]\n",
    "\n",
    "# insert a column 'year' with values of '2016'\n",
    "hs_wa_2016.insert(1, 'Year', 2016)\n",
    "\n",
    "# insert a column 'Rank' with values of incremental values'\n",
    "hs_wa_2016.insert(2, 'Rank', range(1, 1 + len(hs_wa_2016)))\n",
    "\n",
    "# Remove other strings after a comma to show only the school name\n",
    "hs_wa_2016[\"School\"] = hs_wa_2016[\"School\"].str.split(',', 1).str.get(0)\n",
    "\n",
    "# Remove the space and parenthesis strings to show only the school name\n",
    "hs_wa_2016[\"School\"] = hs_wa_2016[\"School\"].str.split('\\s+\\(', 1).str.get(0)\n",
    "\n",
    "# remove other columns\n",
    "hs_wa_2016 = hs_wa_2016[['School', 'Year', 'Rank', 'Postcode','State Overall Score', 'Total Enrolments']]\n",
    "hs_wa_2016"
   ]
  },
  {
   "cell_type": "code",
   "execution_count": 80,
   "metadata": {},
   "outputs": [],
   "source": [
    "# replace some values to correct the spelling\n",
    "hs_wa_2016[\"School\"].replace({\"John Curtin College Of The Arts\": \"John Curtin College of the Arts\", \n",
    "                       \"Australian Christian College\": \"Australian Christian College - Southlands\",\n",
    "                       \"St Stephen's School\": \"St Stephen's School - Duncraig\",\n",
    "                       \"Schools Of Isolated & Distance Education\": \"School of Isolated and Distance Education\",\n",
    "                       \"St Mary MacKillop College\": \"St Mary Mackillop College\"\n",
    "                        }, inplace=True)"
   ]
  },
  {
   "cell_type": "code",
   "execution_count": 81,
   "metadata": {},
   "outputs": [
    {
     "output_type": "execute_result",
     "data": {
      "text/plain": [
       "                                       School  Year  Rank  Postcode  \\\n",
       "0                         Perth Modern School  2016     1      6008   \n",
       "1                Christ Church Grammar School  2016     2      6010   \n",
       "2   International School of Western Australia  2016     3      6015   \n",
       "3                                 Hale School  2016     4      6019   \n",
       "4            St Mary's Anglican Girls' School  2016     5      6018   \n",
       "..                                        ...   ...   ...       ...   \n",
       "67                   Bunbury Catholic College  2016    68      6230   \n",
       "68                         St Norbert College  2016    69      6107   \n",
       "69              Kalbarri District High School  2016    70      6536   \n",
       "70                             Tranby College  2016    71      6171   \n",
       "71                 Denmark Senior High School  2016    72      6333   \n",
       "\n",
       "    State Overall Score  Total Enrolments  ICSEA  \n",
       "0                   100              1336   1239  \n",
       "1                   100              1663   1180  \n",
       "2                   100               235   1182  \n",
       "3                   100              1486   1165  \n",
       "4                    99              1385   1158  \n",
       "..                  ...               ...    ...  \n",
       "67                   91              1370   1035  \n",
       "68                   90               890   1044  \n",
       "69                   90               220    988  \n",
       "70                   90               884   1066  \n",
       "71                   90               401   1038  \n",
       "\n",
       "[72 rows x 7 columns]"
      ],
      "text/html": "<div>\n<style scoped>\n    .dataframe tbody tr th:only-of-type {\n        vertical-align: middle;\n    }\n\n    .dataframe tbody tr th {\n        vertical-align: top;\n    }\n\n    .dataframe thead th {\n        text-align: right;\n    }\n</style>\n<table border=\"1\" class=\"dataframe\">\n  <thead>\n    <tr style=\"text-align: right;\">\n      <th></th>\n      <th>School</th>\n      <th>Year</th>\n      <th>Rank</th>\n      <th>Postcode</th>\n      <th>State Overall Score</th>\n      <th>Total Enrolments</th>\n      <th>ICSEA</th>\n    </tr>\n  </thead>\n  <tbody>\n    <tr>\n      <th>0</th>\n      <td>Perth Modern School</td>\n      <td>2016</td>\n      <td>1</td>\n      <td>6008</td>\n      <td>100</td>\n      <td>1336</td>\n      <td>1239</td>\n    </tr>\n    <tr>\n      <th>1</th>\n      <td>Christ Church Grammar School</td>\n      <td>2016</td>\n      <td>2</td>\n      <td>6010</td>\n      <td>100</td>\n      <td>1663</td>\n      <td>1180</td>\n    </tr>\n    <tr>\n      <th>2</th>\n      <td>International School of Western Australia</td>\n      <td>2016</td>\n      <td>3</td>\n      <td>6015</td>\n      <td>100</td>\n      <td>235</td>\n      <td>1182</td>\n    </tr>\n    <tr>\n      <th>3</th>\n      <td>Hale School</td>\n      <td>2016</td>\n      <td>4</td>\n      <td>6019</td>\n      <td>100</td>\n      <td>1486</td>\n      <td>1165</td>\n    </tr>\n    <tr>\n      <th>4</th>\n      <td>St Mary's Anglican Girls' School</td>\n      <td>2016</td>\n      <td>5</td>\n      <td>6018</td>\n      <td>99</td>\n      <td>1385</td>\n      <td>1158</td>\n    </tr>\n    <tr>\n      <th>...</th>\n      <td>...</td>\n      <td>...</td>\n      <td>...</td>\n      <td>...</td>\n      <td>...</td>\n      <td>...</td>\n      <td>...</td>\n    </tr>\n    <tr>\n      <th>67</th>\n      <td>Bunbury Catholic College</td>\n      <td>2016</td>\n      <td>68</td>\n      <td>6230</td>\n      <td>91</td>\n      <td>1370</td>\n      <td>1035</td>\n    </tr>\n    <tr>\n      <th>68</th>\n      <td>St Norbert College</td>\n      <td>2016</td>\n      <td>69</td>\n      <td>6107</td>\n      <td>90</td>\n      <td>890</td>\n      <td>1044</td>\n    </tr>\n    <tr>\n      <th>69</th>\n      <td>Kalbarri District High School</td>\n      <td>2016</td>\n      <td>70</td>\n      <td>6536</td>\n      <td>90</td>\n      <td>220</td>\n      <td>988</td>\n    </tr>\n    <tr>\n      <th>70</th>\n      <td>Tranby College</td>\n      <td>2016</td>\n      <td>71</td>\n      <td>6171</td>\n      <td>90</td>\n      <td>884</td>\n      <td>1066</td>\n    </tr>\n    <tr>\n      <th>71</th>\n      <td>Denmark Senior High School</td>\n      <td>2016</td>\n      <td>72</td>\n      <td>6333</td>\n      <td>90</td>\n      <td>401</td>\n      <td>1038</td>\n    </tr>\n  </tbody>\n</table>\n<p>72 rows × 7 columns</p>\n</div>"
     },
     "metadata": {},
     "execution_count": 81
    }
   ],
   "source": [
    "# merge hs_wa_2016 with icsea_full\n",
    "hs_wa_2016_merge = pd.merge(hs_wa_2016, icsea_full , on=['School'], how='left')\n",
    "hs_wa_2016_merge"
   ]
  },
  {
   "cell_type": "code",
   "execution_count": 82,
   "metadata": {},
   "outputs": [
    {
     "output_type": "execute_result",
     "data": {
      "text/plain": [
       "Empty DataFrame\n",
       "Columns: [School, Year, Rank, Postcode, State Overall Score, Total Enrolments, ICSEA]\n",
       "Index: []"
      ],
      "text/html": "<div>\n<style scoped>\n    .dataframe tbody tr th:only-of-type {\n        vertical-align: middle;\n    }\n\n    .dataframe tbody tr th {\n        vertical-align: top;\n    }\n\n    .dataframe thead th {\n        text-align: right;\n    }\n</style>\n<table border=\"1\" class=\"dataframe\">\n  <thead>\n    <tr style=\"text-align: right;\">\n      <th></th>\n      <th>School</th>\n      <th>Year</th>\n      <th>Rank</th>\n      <th>Postcode</th>\n      <th>State Overall Score</th>\n      <th>Total Enrolments</th>\n      <th>ICSEA</th>\n    </tr>\n  </thead>\n  <tbody>\n  </tbody>\n</table>\n</div>"
     },
     "metadata": {},
     "execution_count": 82
    }
   ],
   "source": [
    "# Check for NaN values\n",
    "# creating bool series True for NaN values  \n",
    "bool_series = pd.isnull(hs_wa_2016_merge[\"ICSEA\"])  \n",
    "    \n",
    "# filtering data  \n",
    "# displaying data only with Gender = NaN  \n",
    "hs_wa_2016_merge[bool_series]"
   ]
  },
  {
   "cell_type": "code",
   "execution_count": 83,
   "metadata": {},
   "outputs": [
    {
     "output_type": "execute_result",
     "data": {
      "text/plain": [
       "                                       School  Year  Rank  Postcode  \\\n",
       "0                         Perth Modern School  2016     1      6008   \n",
       "1                Christ Church Grammar School  2016     2      6010   \n",
       "2   International School of Western Australia  2016     3      6015   \n",
       "3                                 Hale School  2016     4      6019   \n",
       "4            St Mary's Anglican Girls' School  2016     5      6018   \n",
       "..                                        ...   ...   ...       ...   \n",
       "67                   Bunbury Catholic College  2016    68      6230   \n",
       "68                         St Norbert College  2016    69      6107   \n",
       "69              Kalbarri District High School  2016    70      6536   \n",
       "70                             Tranby College  2016    71      6171   \n",
       "71                 Denmark Senior High School  2016    72      6333   \n",
       "\n",
       "    State Overall Score  Total Enrolments  ICSEA   Longitude   Latitude  \n",
       "0                   100              1336   1239  115.836396 -31.945066  \n",
       "1                   100              1663   1180  115.776987 -31.985461  \n",
       "2                   100               235   1182  115.777620 -31.898500  \n",
       "3                   100              1486   1165  115.783783 -31.912322  \n",
       "4                    99              1385   1158  115.766244 -31.876971  \n",
       "..                  ...               ...    ...         ...        ...  \n",
       "67                   91              1370   1035  115.661424 -33.343422  \n",
       "68                   90               890   1044  115.940344 -32.004364  \n",
       "69                   90               220    988  114.163881 -27.712788  \n",
       "70                   90               884   1066  115.800243 -32.340570  \n",
       "71                   90               401   1038  117.364584 -34.957414  \n",
       "\n",
       "[72 rows x 9 columns]"
      ],
      "text/html": "<div>\n<style scoped>\n    .dataframe tbody tr th:only-of-type {\n        vertical-align: middle;\n    }\n\n    .dataframe tbody tr th {\n        vertical-align: top;\n    }\n\n    .dataframe thead th {\n        text-align: right;\n    }\n</style>\n<table border=\"1\" class=\"dataframe\">\n  <thead>\n    <tr style=\"text-align: right;\">\n      <th></th>\n      <th>School</th>\n      <th>Year</th>\n      <th>Rank</th>\n      <th>Postcode</th>\n      <th>State Overall Score</th>\n      <th>Total Enrolments</th>\n      <th>ICSEA</th>\n      <th>Longitude</th>\n      <th>Latitude</th>\n    </tr>\n  </thead>\n  <tbody>\n    <tr>\n      <th>0</th>\n      <td>Perth Modern School</td>\n      <td>2016</td>\n      <td>1</td>\n      <td>6008</td>\n      <td>100</td>\n      <td>1336</td>\n      <td>1239</td>\n      <td>115.836396</td>\n      <td>-31.945066</td>\n    </tr>\n    <tr>\n      <th>1</th>\n      <td>Christ Church Grammar School</td>\n      <td>2016</td>\n      <td>2</td>\n      <td>6010</td>\n      <td>100</td>\n      <td>1663</td>\n      <td>1180</td>\n      <td>115.776987</td>\n      <td>-31.985461</td>\n    </tr>\n    <tr>\n      <th>2</th>\n      <td>International School of Western Australia</td>\n      <td>2016</td>\n      <td>3</td>\n      <td>6015</td>\n      <td>100</td>\n      <td>235</td>\n      <td>1182</td>\n      <td>115.777620</td>\n      <td>-31.898500</td>\n    </tr>\n    <tr>\n      <th>3</th>\n      <td>Hale School</td>\n      <td>2016</td>\n      <td>4</td>\n      <td>6019</td>\n      <td>100</td>\n      <td>1486</td>\n      <td>1165</td>\n      <td>115.783783</td>\n      <td>-31.912322</td>\n    </tr>\n    <tr>\n      <th>4</th>\n      <td>St Mary's Anglican Girls' School</td>\n      <td>2016</td>\n      <td>5</td>\n      <td>6018</td>\n      <td>99</td>\n      <td>1385</td>\n      <td>1158</td>\n      <td>115.766244</td>\n      <td>-31.876971</td>\n    </tr>\n    <tr>\n      <th>...</th>\n      <td>...</td>\n      <td>...</td>\n      <td>...</td>\n      <td>...</td>\n      <td>...</td>\n      <td>...</td>\n      <td>...</td>\n      <td>...</td>\n      <td>...</td>\n    </tr>\n    <tr>\n      <th>67</th>\n      <td>Bunbury Catholic College</td>\n      <td>2016</td>\n      <td>68</td>\n      <td>6230</td>\n      <td>91</td>\n      <td>1370</td>\n      <td>1035</td>\n      <td>115.661424</td>\n      <td>-33.343422</td>\n    </tr>\n    <tr>\n      <th>68</th>\n      <td>St Norbert College</td>\n      <td>2016</td>\n      <td>69</td>\n      <td>6107</td>\n      <td>90</td>\n      <td>890</td>\n      <td>1044</td>\n      <td>115.940344</td>\n      <td>-32.004364</td>\n    </tr>\n    <tr>\n      <th>69</th>\n      <td>Kalbarri District High School</td>\n      <td>2016</td>\n      <td>70</td>\n      <td>6536</td>\n      <td>90</td>\n      <td>220</td>\n      <td>988</td>\n      <td>114.163881</td>\n      <td>-27.712788</td>\n    </tr>\n    <tr>\n      <th>70</th>\n      <td>Tranby College</td>\n      <td>2016</td>\n      <td>71</td>\n      <td>6171</td>\n      <td>90</td>\n      <td>884</td>\n      <td>1066</td>\n      <td>115.800243</td>\n      <td>-32.340570</td>\n    </tr>\n    <tr>\n      <th>71</th>\n      <td>Denmark Senior High School</td>\n      <td>2016</td>\n      <td>72</td>\n      <td>6333</td>\n      <td>90</td>\n      <td>401</td>\n      <td>1038</td>\n      <td>117.364584</td>\n      <td>-34.957414</td>\n    </tr>\n  </tbody>\n</table>\n<p>72 rows × 9 columns</p>\n</div>"
     },
     "metadata": {},
     "execution_count": 83
    }
   ],
   "source": [
    "# merge hs_wa_2016_merge with school_coord\n",
    "hs_wa_2016_coord = pd.merge(hs_wa_2016_merge, school_coord , on=['School'], how='left')\n",
    "hs_wa_2016_coord"
   ]
  },
  {
   "cell_type": "code",
   "execution_count": 84,
   "metadata": {},
   "outputs": [
    {
     "output_type": "execute_result",
     "data": {
      "text/plain": [
       "Empty DataFrame\n",
       "Columns: [School, Year, Rank, Postcode, State Overall Score, Total Enrolments, ICSEA, Longitude, Latitude]\n",
       "Index: []"
      ],
      "text/html": "<div>\n<style scoped>\n    .dataframe tbody tr th:only-of-type {\n        vertical-align: middle;\n    }\n\n    .dataframe tbody tr th {\n        vertical-align: top;\n    }\n\n    .dataframe thead th {\n        text-align: right;\n    }\n</style>\n<table border=\"1\" class=\"dataframe\">\n  <thead>\n    <tr style=\"text-align: right;\">\n      <th></th>\n      <th>School</th>\n      <th>Year</th>\n      <th>Rank</th>\n      <th>Postcode</th>\n      <th>State Overall Score</th>\n      <th>Total Enrolments</th>\n      <th>ICSEA</th>\n      <th>Longitude</th>\n      <th>Latitude</th>\n    </tr>\n  </thead>\n  <tbody>\n  </tbody>\n</table>\n</div>"
     },
     "metadata": {},
     "execution_count": 84
    }
   ],
   "source": [
    "# Check for NaN values\n",
    "# creating bool series True for NaN values  \n",
    "bool_series = pd.isnull(hs_wa_2016_coord[\"Longitude\"])  \n",
    "    \n",
    "# filtering data  \n",
    "# displaying data only with Gender = NaN  \n",
    "hs_wa_2016_coord[bool_series]"
   ]
  },
  {
   "cell_type": "code",
   "execution_count": 85,
   "metadata": {},
   "outputs": [
    {
     "output_type": "execute_result",
     "data": {
      "text/plain": [
       "                                       School  Year  Rank  Postcode  \\\n",
       "0                         Perth Modern School  2016     1      6008   \n",
       "1                Christ Church Grammar School  2016     2      6010   \n",
       "2   International School of Western Australia  2016     3      6015   \n",
       "3                                 Hale School  2016     4      6019   \n",
       "4            St Mary's Anglican Girls' School  2016     5      6018   \n",
       "..                                        ...   ...   ...       ...   \n",
       "67                   Bunbury Catholic College  2016    68      6230   \n",
       "68                         St Norbert College  2016    69      6107   \n",
       "69              Kalbarri District High School  2016    70      6536   \n",
       "70                             Tranby College  2016    71      6171   \n",
       "71                 Denmark Senior High School  2016    72      6333   \n",
       "\n",
       "    State Overall Score  Total Enrolments  ICSEA   Longitude   Latitude  \\\n",
       "0                   100              1336   1239  115.836396 -31.945066   \n",
       "1                   100              1663   1180  115.776987 -31.985461   \n",
       "2                   100               235   1182  115.777620 -31.898500   \n",
       "3                   100              1486   1165  115.783783 -31.912322   \n",
       "4                    99              1385   1158  115.766244 -31.876971   \n",
       "..                  ...               ...    ...         ...        ...   \n",
       "67                   91              1370   1035  115.661424 -33.343422   \n",
       "68                   90               890   1044  115.940344 -32.004364   \n",
       "69                   90               220    988  114.163881 -27.712788   \n",
       "70                   90               884   1066  115.800243 -32.340570   \n",
       "71                   90               401   1038  117.364584 -34.957414   \n",
       "\n",
       "            Sector Gender  Religion  \n",
       "0       Government  Co-ed   Secular  \n",
       "1   Non-government   Boys  Anglican  \n",
       "2       Government  Co-ed   Secular  \n",
       "3   Non-government   Boys  Anglican  \n",
       "4   Non-government  Girls  Anglican  \n",
       "..             ...    ...       ...  \n",
       "67  Non-government  Co-ed  Catholic  \n",
       "68  Non-government  Co-ed  Catholic  \n",
       "69      Government  Co-ed   Secular  \n",
       "70  Non-government  Co-ed   Uniting  \n",
       "71      Government  Co-ed   Secular  \n",
       "\n",
       "[72 rows x 12 columns]"
      ],
      "text/html": "<div>\n<style scoped>\n    .dataframe tbody tr th:only-of-type {\n        vertical-align: middle;\n    }\n\n    .dataframe tbody tr th {\n        vertical-align: top;\n    }\n\n    .dataframe thead th {\n        text-align: right;\n    }\n</style>\n<table border=\"1\" class=\"dataframe\">\n  <thead>\n    <tr style=\"text-align: right;\">\n      <th></th>\n      <th>School</th>\n      <th>Year</th>\n      <th>Rank</th>\n      <th>Postcode</th>\n      <th>State Overall Score</th>\n      <th>Total Enrolments</th>\n      <th>ICSEA</th>\n      <th>Longitude</th>\n      <th>Latitude</th>\n      <th>Sector</th>\n      <th>Gender</th>\n      <th>Religion</th>\n    </tr>\n  </thead>\n  <tbody>\n    <tr>\n      <th>0</th>\n      <td>Perth Modern School</td>\n      <td>2016</td>\n      <td>1</td>\n      <td>6008</td>\n      <td>100</td>\n      <td>1336</td>\n      <td>1239</td>\n      <td>115.836396</td>\n      <td>-31.945066</td>\n      <td>Government</td>\n      <td>Co-ed</td>\n      <td>Secular</td>\n    </tr>\n    <tr>\n      <th>1</th>\n      <td>Christ Church Grammar School</td>\n      <td>2016</td>\n      <td>2</td>\n      <td>6010</td>\n      <td>100</td>\n      <td>1663</td>\n      <td>1180</td>\n      <td>115.776987</td>\n      <td>-31.985461</td>\n      <td>Non-government</td>\n      <td>Boys</td>\n      <td>Anglican</td>\n    </tr>\n    <tr>\n      <th>2</th>\n      <td>International School of Western Australia</td>\n      <td>2016</td>\n      <td>3</td>\n      <td>6015</td>\n      <td>100</td>\n      <td>235</td>\n      <td>1182</td>\n      <td>115.777620</td>\n      <td>-31.898500</td>\n      <td>Government</td>\n      <td>Co-ed</td>\n      <td>Secular</td>\n    </tr>\n    <tr>\n      <th>3</th>\n      <td>Hale School</td>\n      <td>2016</td>\n      <td>4</td>\n      <td>6019</td>\n      <td>100</td>\n      <td>1486</td>\n      <td>1165</td>\n      <td>115.783783</td>\n      <td>-31.912322</td>\n      <td>Non-government</td>\n      <td>Boys</td>\n      <td>Anglican</td>\n    </tr>\n    <tr>\n      <th>4</th>\n      <td>St Mary's Anglican Girls' School</td>\n      <td>2016</td>\n      <td>5</td>\n      <td>6018</td>\n      <td>99</td>\n      <td>1385</td>\n      <td>1158</td>\n      <td>115.766244</td>\n      <td>-31.876971</td>\n      <td>Non-government</td>\n      <td>Girls</td>\n      <td>Anglican</td>\n    </tr>\n    <tr>\n      <th>...</th>\n      <td>...</td>\n      <td>...</td>\n      <td>...</td>\n      <td>...</td>\n      <td>...</td>\n      <td>...</td>\n      <td>...</td>\n      <td>...</td>\n      <td>...</td>\n      <td>...</td>\n      <td>...</td>\n      <td>...</td>\n    </tr>\n    <tr>\n      <th>67</th>\n      <td>Bunbury Catholic College</td>\n      <td>2016</td>\n      <td>68</td>\n      <td>6230</td>\n      <td>91</td>\n      <td>1370</td>\n      <td>1035</td>\n      <td>115.661424</td>\n      <td>-33.343422</td>\n      <td>Non-government</td>\n      <td>Co-ed</td>\n      <td>Catholic</td>\n    </tr>\n    <tr>\n      <th>68</th>\n      <td>St Norbert College</td>\n      <td>2016</td>\n      <td>69</td>\n      <td>6107</td>\n      <td>90</td>\n      <td>890</td>\n      <td>1044</td>\n      <td>115.940344</td>\n      <td>-32.004364</td>\n      <td>Non-government</td>\n      <td>Co-ed</td>\n      <td>Catholic</td>\n    </tr>\n    <tr>\n      <th>69</th>\n      <td>Kalbarri District High School</td>\n      <td>2016</td>\n      <td>70</td>\n      <td>6536</td>\n      <td>90</td>\n      <td>220</td>\n      <td>988</td>\n      <td>114.163881</td>\n      <td>-27.712788</td>\n      <td>Government</td>\n      <td>Co-ed</td>\n      <td>Secular</td>\n    </tr>\n    <tr>\n      <th>70</th>\n      <td>Tranby College</td>\n      <td>2016</td>\n      <td>71</td>\n      <td>6171</td>\n      <td>90</td>\n      <td>884</td>\n      <td>1066</td>\n      <td>115.800243</td>\n      <td>-32.340570</td>\n      <td>Non-government</td>\n      <td>Co-ed</td>\n      <td>Uniting</td>\n    </tr>\n    <tr>\n      <th>71</th>\n      <td>Denmark Senior High School</td>\n      <td>2016</td>\n      <td>72</td>\n      <td>6333</td>\n      <td>90</td>\n      <td>401</td>\n      <td>1038</td>\n      <td>117.364584</td>\n      <td>-34.957414</td>\n      <td>Government</td>\n      <td>Co-ed</td>\n      <td>Secular</td>\n    </tr>\n  </tbody>\n</table>\n<p>72 rows × 12 columns</p>\n</div>"
     },
     "metadata": {},
     "execution_count": 85
    }
   ],
   "source": [
    "# merge hs_wa_2016_coord with sectors\n",
    "wa_hs_icsea_2016 = pd.merge(hs_wa_2016_coord, sectors , on=['School'], how='left')\n",
    "wa_hs_icsea_2016"
   ]
  },
  {
   "cell_type": "code",
   "execution_count": 86,
   "metadata": {},
   "outputs": [
    {
     "output_type": "execute_result",
     "data": {
      "text/plain": [
       "Empty DataFrame\n",
       "Columns: [School, Year, Rank, Postcode, State Overall Score, Total Enrolments, ICSEA, Longitude, Latitude, Sector, Gender, Religion]\n",
       "Index: []"
      ],
      "text/html": "<div>\n<style scoped>\n    .dataframe tbody tr th:only-of-type {\n        vertical-align: middle;\n    }\n\n    .dataframe tbody tr th {\n        vertical-align: top;\n    }\n\n    .dataframe thead th {\n        text-align: right;\n    }\n</style>\n<table border=\"1\" class=\"dataframe\">\n  <thead>\n    <tr style=\"text-align: right;\">\n      <th></th>\n      <th>School</th>\n      <th>Year</th>\n      <th>Rank</th>\n      <th>Postcode</th>\n      <th>State Overall Score</th>\n      <th>Total Enrolments</th>\n      <th>ICSEA</th>\n      <th>Longitude</th>\n      <th>Latitude</th>\n      <th>Sector</th>\n      <th>Gender</th>\n      <th>Religion</th>\n    </tr>\n  </thead>\n  <tbody>\n  </tbody>\n</table>\n</div>"
     },
     "metadata": {},
     "execution_count": 86
    }
   ],
   "source": [
    "# Check for NaN values\n",
    "# creating bool series True for NaN values  \n",
    "bool_series = pd.isnull(wa_hs_icsea_2016[\"Sector\"])  \n",
    "    \n",
    "# filtering data  \n",
    "# displaying data only with Gender = NaN  \n",
    "wa_hs_icsea_2016[bool_series]"
   ]
  },
  {
   "cell_type": "code",
   "execution_count": 87,
   "metadata": {},
   "outputs": [],
   "source": [
    "# save the wa_hs_icsea_2016 dataframe to a CSV file\n",
    "wa_hs_icsea_2016.to_csv(\"Resources/wa_hs_icsea_2016.csv\", index = False)"
   ]
  },
  {
   "cell_type": "code",
   "execution_count": null,
   "metadata": {},
   "outputs": [],
   "source": []
  }
 ]
}